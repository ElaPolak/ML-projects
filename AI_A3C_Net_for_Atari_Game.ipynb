{
  "cells": [
    {
      "cell_type": "markdown",
      "source": [
        "# A3C  (Asynchronous Advantage Actor Critic) Neural Network"
      ],
      "metadata": {
        "id": "dIo6Zkp7U1Hq"
      }
    },
    {
      "cell_type": "markdown",
      "source": [
        "I'm using this network to train a kangaroo mother in an Atari game. She has to find her baby and fight different obstacles showing up in her way. The environment is provided at https://gymnasium.farama.org/. A3C neural networks achieve great results through two innovations: one is adding a critic to the usual setup with an actor (agent); another is training several actors at the same time and combining thier results together (that's the \"asynchronous\" part). The actor network is used to choose actions and the critic network evaluates them. Thus, at the end, the loss functions is a sum of two losses: one for the actors and one for the critic. The actor's loss uses so called advantage (the last of three A's in the name). The formula is advantage = target_state_value - state_value, where the former comes from the Bellman equation and the latter is the result of performing the forward pass of a current state through the network."
      ],
      "metadata": {
        "id": "mb6RRtvQ2vvY"
      }
    },
    {
      "cell_type": "markdown",
      "source": [
        "### Installing packages and importing the libraries\n",
        "\n",
        "---\n",
        "\n"
      ],
      "metadata": {
        "id": "pz8ogVxGVB6b"
      }
    },
    {
      "cell_type": "code",
      "execution_count": 1,
      "metadata": {
        "id": "dbnq3XpoKa_7",
        "colab": {
          "base_uri": "https://localhost:8080/"
        },
        "outputId": "0e8ac154-53bd-4a58-df0e-44be89389ee5"
      },
      "outputs": [
        {
          "output_type": "stream",
          "name": "stdout",
          "text": [
            "Collecting gymnasium\n",
            "  Downloading gymnasium-0.29.1-py3-none-any.whl.metadata (10 kB)\n",
            "Requirement already satisfied: numpy>=1.21.0 in /usr/local/lib/python3.10/dist-packages (from gymnasium) (1.26.4)\n",
            "Requirement already satisfied: cloudpickle>=1.2.0 in /usr/local/lib/python3.10/dist-packages (from gymnasium) (2.2.1)\n",
            "Requirement already satisfied: typing-extensions>=4.3.0 in /usr/local/lib/python3.10/dist-packages (from gymnasium) (4.12.2)\n",
            "Collecting farama-notifications>=0.0.1 (from gymnasium)\n",
            "  Downloading Farama_Notifications-0.0.4-py3-none-any.whl.metadata (558 bytes)\n",
            "Downloading gymnasium-0.29.1-py3-none-any.whl (953 kB)\n",
            "\u001b[2K   \u001b[90m━━━━━━━━━━━━━━━━━━━━━━━━━━━━━━━━━━━━━━━━\u001b[0m \u001b[32m953.9/953.9 kB\u001b[0m \u001b[31m14.2 MB/s\u001b[0m eta \u001b[36m0:00:00\u001b[0m\n",
            "\u001b[?25hDownloading Farama_Notifications-0.0.4-py3-none-any.whl (2.5 kB)\n",
            "Installing collected packages: farama-notifications, gymnasium\n",
            "Successfully installed farama-notifications-0.0.4 gymnasium-0.29.1\n",
            "Requirement already satisfied: gymnasium[accept-rom-license,atari] in /usr/local/lib/python3.10/dist-packages (0.29.1)\n",
            "Requirement already satisfied: numpy>=1.21.0 in /usr/local/lib/python3.10/dist-packages (from gymnasium[accept-rom-license,atari]) (1.26.4)\n",
            "Requirement already satisfied: cloudpickle>=1.2.0 in /usr/local/lib/python3.10/dist-packages (from gymnasium[accept-rom-license,atari]) (2.2.1)\n",
            "Requirement already satisfied: typing-extensions>=4.3.0 in /usr/local/lib/python3.10/dist-packages (from gymnasium[accept-rom-license,atari]) (4.12.2)\n",
            "Requirement already satisfied: farama-notifications>=0.0.1 in /usr/local/lib/python3.10/dist-packages (from gymnasium[accept-rom-license,atari]) (0.0.4)\n",
            "Collecting shimmy<1.0,>=0.1.0 (from shimmy[atari]<1.0,>=0.1.0; extra == \"atari\"->gymnasium[accept-rom-license,atari])\n",
            "  Downloading Shimmy-0.2.1-py3-none-any.whl.metadata (2.3 kB)\n",
            "Collecting autorom~=0.4.2 (from autorom[accept-rom-license]~=0.4.2; extra == \"accept-rom-license\"->gymnasium[accept-rom-license,atari])\n",
            "  Downloading AutoROM-0.4.2-py3-none-any.whl.metadata (2.8 kB)\n",
            "Requirement already satisfied: click in /usr/local/lib/python3.10/dist-packages (from autorom~=0.4.2->autorom[accept-rom-license]~=0.4.2; extra == \"accept-rom-license\"->gymnasium[accept-rom-license,atari]) (8.1.7)\n",
            "Requirement already satisfied: requests in /usr/local/lib/python3.10/dist-packages (from autorom~=0.4.2->autorom[accept-rom-license]~=0.4.2; extra == \"accept-rom-license\"->gymnasium[accept-rom-license,atari]) (2.32.3)\n",
            "Requirement already satisfied: tqdm in /usr/local/lib/python3.10/dist-packages (from autorom~=0.4.2->autorom[accept-rom-license]~=0.4.2; extra == \"accept-rom-license\"->gymnasium[accept-rom-license,atari]) (4.66.5)\n",
            "Collecting AutoROM.accept-rom-license (from autorom[accept-rom-license]~=0.4.2; extra == \"accept-rom-license\"->gymnasium[accept-rom-license,atari])\n",
            "  Downloading AutoROM.accept-rom-license-0.6.1.tar.gz (434 kB)\n",
            "\u001b[2K     \u001b[90m━━━━━━━━━━━━━━━━━━━━━━━━━━━━━━━━━━━━━━━━\u001b[0m \u001b[32m434.7/434.7 kB\u001b[0m \u001b[31m6.3 MB/s\u001b[0m eta \u001b[36m0:00:00\u001b[0m\n",
            "\u001b[?25h  Installing build dependencies ... \u001b[?25l\u001b[?25hdone\n",
            "  Getting requirements to build wheel ... \u001b[?25l\u001b[?25hdone\n",
            "  Preparing metadata (pyproject.toml) ... \u001b[?25l\u001b[?25hdone\n",
            "Collecting ale-py~=0.8.1 (from shimmy[atari]<1.0,>=0.1.0; extra == \"atari\"->gymnasium[accept-rom-license,atari])\n",
            "  Downloading ale_py-0.8.1-cp310-cp310-manylinux_2_17_x86_64.manylinux2014_x86_64.whl.metadata (8.1 kB)\n",
            "Requirement already satisfied: importlib-resources in /usr/local/lib/python3.10/dist-packages (from ale-py~=0.8.1->shimmy[atari]<1.0,>=0.1.0; extra == \"atari\"->gymnasium[accept-rom-license,atari]) (6.4.5)\n",
            "Requirement already satisfied: charset-normalizer<4,>=2 in /usr/local/lib/python3.10/dist-packages (from requests->autorom~=0.4.2->autorom[accept-rom-license]~=0.4.2; extra == \"accept-rom-license\"->gymnasium[accept-rom-license,atari]) (3.3.2)\n",
            "Requirement already satisfied: idna<4,>=2.5 in /usr/local/lib/python3.10/dist-packages (from requests->autorom~=0.4.2->autorom[accept-rom-license]~=0.4.2; extra == \"accept-rom-license\"->gymnasium[accept-rom-license,atari]) (3.10)\n",
            "Requirement already satisfied: urllib3<3,>=1.21.1 in /usr/local/lib/python3.10/dist-packages (from requests->autorom~=0.4.2->autorom[accept-rom-license]~=0.4.2; extra == \"accept-rom-license\"->gymnasium[accept-rom-license,atari]) (2.2.3)\n",
            "Requirement already satisfied: certifi>=2017.4.17 in /usr/local/lib/python3.10/dist-packages (from requests->autorom~=0.4.2->autorom[accept-rom-license]~=0.4.2; extra == \"accept-rom-license\"->gymnasium[accept-rom-license,atari]) (2024.8.30)\n",
            "Downloading AutoROM-0.4.2-py3-none-any.whl (16 kB)\n",
            "Downloading Shimmy-0.2.1-py3-none-any.whl (25 kB)\n",
            "Downloading ale_py-0.8.1-cp310-cp310-manylinux_2_17_x86_64.manylinux2014_x86_64.whl (1.7 MB)\n",
            "\u001b[2K   \u001b[90m━━━━━━━━━━━━━━━━━━━━━━━━━━━━━━━━━━━━━━━━\u001b[0m \u001b[32m1.7/1.7 MB\u001b[0m \u001b[31m53.1 MB/s\u001b[0m eta \u001b[36m0:00:00\u001b[0m\n",
            "\u001b[?25hBuilding wheels for collected packages: AutoROM.accept-rom-license\n",
            "  Building wheel for AutoROM.accept-rom-license (pyproject.toml) ... \u001b[?25l\u001b[?25hdone\n",
            "  Created wheel for AutoROM.accept-rom-license: filename=AutoROM.accept_rom_license-0.6.1-py3-none-any.whl size=446661 sha256=1594402b7f6a5d77f9f10032fcd3763e928619564e7fad7fed904a6460e395e9\n",
            "  Stored in directory: /root/.cache/pip/wheels/6b/1b/ef/a43ff1a2f1736d5711faa1ba4c1f61be1131b8899e6a057811\n",
            "Successfully built AutoROM.accept-rom-license\n",
            "Installing collected packages: ale-py, shimmy, AutoROM.accept-rom-license, autorom\n",
            "Successfully installed AutoROM.accept-rom-license-0.6.1 ale-py-0.8.1 autorom-0.4.2 shimmy-0.2.1\n",
            "Reading package lists... Done\n",
            "Building dependency tree... Done\n",
            "Reading state information... Done\n",
            "The following additional packages will be installed:\n",
            "  swig4.0\n",
            "Suggested packages:\n",
            "  swig-doc swig-examples swig4.0-examples swig4.0-doc\n",
            "The following NEW packages will be installed:\n",
            "  swig swig4.0\n",
            "0 upgraded, 2 newly installed, 0 to remove and 49 not upgraded.\n",
            "Need to get 1,116 kB of archives.\n",
            "After this operation, 5,542 kB of additional disk space will be used.\n",
            "Get:1 http://archive.ubuntu.com/ubuntu jammy/universe amd64 swig4.0 amd64 4.0.2-1ubuntu1 [1,110 kB]\n",
            "Get:2 http://archive.ubuntu.com/ubuntu jammy/universe amd64 swig all 4.0.2-1ubuntu1 [5,632 B]\n",
            "Fetched 1,116 kB in 2s (738 kB/s)\n",
            "Selecting previously unselected package swig4.0.\n",
            "(Reading database ... 123620 files and directories currently installed.)\n",
            "Preparing to unpack .../swig4.0_4.0.2-1ubuntu1_amd64.deb ...\n",
            "Unpacking swig4.0 (4.0.2-1ubuntu1) ...\n",
            "Selecting previously unselected package swig.\n",
            "Preparing to unpack .../swig_4.0.2-1ubuntu1_all.deb ...\n",
            "Unpacking swig (4.0.2-1ubuntu1) ...\n",
            "Setting up swig4.0 (4.0.2-1ubuntu1) ...\n",
            "Setting up swig (4.0.2-1ubuntu1) ...\n",
            "Processing triggers for man-db (2.10.2-1) ...\n",
            "Requirement already satisfied: gymnasium[box2d] in /usr/local/lib/python3.10/dist-packages (0.29.1)\n",
            "Requirement already satisfied: numpy>=1.21.0 in /usr/local/lib/python3.10/dist-packages (from gymnasium[box2d]) (1.26.4)\n",
            "Requirement already satisfied: cloudpickle>=1.2.0 in /usr/local/lib/python3.10/dist-packages (from gymnasium[box2d]) (2.2.1)\n",
            "Requirement already satisfied: typing-extensions>=4.3.0 in /usr/local/lib/python3.10/dist-packages (from gymnasium[box2d]) (4.12.2)\n",
            "Requirement already satisfied: farama-notifications>=0.0.1 in /usr/local/lib/python3.10/dist-packages (from gymnasium[box2d]) (0.0.4)\n",
            "Collecting box2d-py==2.3.5 (from gymnasium[box2d])\n",
            "  Downloading box2d-py-2.3.5.tar.gz (374 kB)\n",
            "\u001b[2K     \u001b[90m━━━━━━━━━━━━━━━━━━━━━━━━━━━━━━━━━━━━━━━━\u001b[0m \u001b[32m374.4/374.4 kB\u001b[0m \u001b[31m10.1 MB/s\u001b[0m eta \u001b[36m0:00:00\u001b[0m\n",
            "\u001b[?25h  Preparing metadata (setup.py) ... \u001b[?25l\u001b[?25hdone\n",
            "Requirement already satisfied: pygame>=2.1.3 in /usr/local/lib/python3.10/dist-packages (from gymnasium[box2d]) (2.6.1)\n",
            "Collecting swig==4.* (from gymnasium[box2d])\n",
            "  Downloading swig-4.2.1-py2.py3-none-manylinux_2_5_x86_64.manylinux1_x86_64.whl.metadata (3.6 kB)\n",
            "Downloading swig-4.2.1-py2.py3-none-manylinux_2_5_x86_64.manylinux1_x86_64.whl (1.9 MB)\n",
            "\u001b[2K   \u001b[90m━━━━━━━━━━━━━━━━━━━━━━━━━━━━━━━━━━━━━━━━\u001b[0m \u001b[32m1.9/1.9 MB\u001b[0m \u001b[31m60.2 MB/s\u001b[0m eta \u001b[36m0:00:00\u001b[0m\n",
            "\u001b[?25hBuilding wheels for collected packages: box2d-py\n",
            "  Building wheel for box2d-py (setup.py) ... \u001b[?25l\u001b[?25hdone\n",
            "  Created wheel for box2d-py: filename=box2d_py-2.3.5-cp310-cp310-linux_x86_64.whl size=2349138 sha256=cd50d91cf77df8b7b9c05efebcbaaeb52b1d0f1e77d627f4a05b6bca0ff34bc1\n",
            "  Stored in directory: /root/.cache/pip/wheels/db/8f/6a/eaaadf056fba10a98d986f6dce954e6201ba3126926fc5ad9e\n",
            "Successfully built box2d-py\n",
            "Installing collected packages: swig, box2d-py\n",
            "Successfully installed box2d-py-2.3.5 swig-4.2.1\n"
          ]
        }
      ],
      "source": [
        "# gymnasium:\n",
        "\n",
        "!pip install gymnasium\n",
        "!pip install \"gymnasium[atari, accept-rom-license]\"\n",
        "!apt-get install -y swig\n",
        "!pip install gymnasium[box2d]"
      ]
    },
    {
      "cell_type": "code",
      "execution_count": 2,
      "metadata": {
        "id": "Ho_25-9_9qnu"
      },
      "outputs": [],
      "source": [
        "# Importing libraries:\n",
        "\n",
        "import cv2\n",
        "import math\n",
        "import random\n",
        "import numpy as np\n",
        "import torch\n",
        "import torch.nn as nn\n",
        "import torch.optim as optim\n",
        "import torch.nn.functional as F\n",
        "import torch.multiprocessing as mp\n",
        "import torch.distributions as distributions\n",
        "from torch.distributions import Categorical\n",
        "import gymnasium as gym\n",
        "from gymnasium import ObservationWrapper\n",
        "from gymnasium.spaces import Box"
      ]
    },
    {
      "cell_type": "markdown",
      "source": [
        "### Creating the architecture of the Network:"
      ],
      "metadata": {
        "id": "qyNc8cxbZCYP"
      }
    },
    {
      "cell_type": "code",
      "source": [
        "class Network(nn.Module):\n",
        "  def __init__(self,action_size, seed = 42):\n",
        "    super(Network,self).__init__()\n",
        "    self.seed = torch.manual_seed(seed)\n",
        "    self.conv_layers = nn.Sequential(\n",
        "            nn.Conv2d(4, 16, kernel_size=3, stride=1, padding=1),  # Output: (16, 42, 42)\n",
        "            nn.BatchNorm2d(16),\n",
        "            nn.ReLU(),\n",
        "\n",
        "            nn.Conv2d(16, 32, kernel_size=3, stride=1, padding=1),  # Output: (32, 42, 42)\n",
        "            nn.BatchNorm2d(32),\n",
        "            nn.ReLU(),\n",
        "\n",
        "            nn.Conv2d(32, 64, kernel_size=3, stride=1, padding=1),  # Output: (64, 42, 42)\n",
        "            nn.BatchNorm2d(64),\n",
        "            nn.ReLU(),\n",
        "\n",
        "            nn.Conv2d(64, 128, kernel_size=3, stride=1, padding=1),  # Output: (128, 42, 42)\n",
        "            nn.BatchNorm2d(128),\n",
        "            nn.ReLU(),\n",
        "\n",
        "            nn.MaxPool2d(kernel_size=2, stride=2),  # Output: (128, 21, 21)\n",
        "        )\n",
        "\n",
        "    self.flatten = nn.Flatten()\n",
        "\n",
        "        # Calculating the input dimension and the first dense layer:\n",
        "    self.fc_input_dim = 128 * 21 * 21  # (128 channels, 21 height, 21 width)\n",
        "    self.fc1 = nn.Linear(self.fc_input_dim, 128)\n",
        "\n",
        "        # Dense layers:\n",
        "    self.fc2actor = torch.nn.Linear(128, action_size) # actor\n",
        "    self.fc2critic = torch.nn.Linear(128, 1)   # critic\n",
        "\n",
        "  def forward(self, state):\n",
        "    x = self.conv_layers(state)\n",
        "    x = self.flatten(x)\n",
        "    x = self.fc1(x)\n",
        "    x = F.relu(x)\n",
        "    actions_values = self.fc2actor(x)\n",
        "    state_value = self.fc2critic(x)[0]\n",
        "    return actions_values, state_value"
      ],
      "metadata": {
        "colab": {
          "base_uri": "https://localhost:8080/"
        },
        "id": "KSDaqjIF0S3F",
        "outputId": "905b2661-8896-48bc-988d-518a3ca10820"
      },
      "execution_count": 115,
      "outputs": [
        {
          "output_type": "stream",
          "name": "stderr",
          "text": [
            "/usr/local/lib/python3.10/dist-packages/ipykernel/ipkernel.py:283: DeprecationWarning: `should_run_async` will not call `transform_cell` automatically in the future. Please pass the result to `transformed_cell` argument and any exception that happen during thetransform in `preprocessing_exc_tuple` in IPython 7.17 and above.\n",
            "  and should_run_async(code)\n"
          ]
        }
      ]
    },
    {
      "cell_type": "markdown",
      "source": [
        "## Training the AI:"
      ],
      "metadata": {
        "id": "eF5bETqbZbCG"
      }
    },
    {
      "cell_type": "markdown",
      "source": [
        "### Environment:"
      ],
      "metadata": {
        "id": "3C2ydyKLZgaK"
      }
    },
    {
      "cell_type": "code",
      "source": [
        "# The code in this cell is provided by the Udemy course Artificial Intelligence A-Z 2024:\n",
        "\n",
        "class PreprocessAtari(ObservationWrapper):\n",
        "\n",
        "  def __init__(self, env, height = 42, width = 42, crop = lambda img: img, dim_order = 'pytorch', color = False, n_frames = 4):\n",
        "    super(PreprocessAtari, self).__init__(env)\n",
        "    self.img_size = (height, width)\n",
        "    self.crop = crop\n",
        "    self.dim_order = dim_order\n",
        "    self.color = color\n",
        "    self.frame_stack = n_frames\n",
        "    n_channels = 3 * n_frames if color else n_frames\n",
        "    obs_shape = {'tensorflow': (height, width, n_channels), 'pytorch': (n_channels, height, width)}[dim_order]\n",
        "    self.observation_space = Box(0.0, 1.0, obs_shape)\n",
        "    self.frames = np.zeros(obs_shape, dtype = np.float32)\n",
        "\n",
        "  def reset(self):\n",
        "    self.frames = np.zeros_like(self.frames)\n",
        "    obs, info = self.env.reset()\n",
        "    self.update_buffer(obs)\n",
        "    return self.frames, info\n",
        "\n",
        "  def observation(self, img):\n",
        "    img = self.crop(img)\n",
        "    img = cv2.resize(img, self.img_size)\n",
        "    if not self.color:\n",
        "      if len(img.shape) == 3 and img.shape[2] == 3:\n",
        "        img = cv2.cvtColor(img, cv2.COLOR_BGR2GRAY)\n",
        "    img = img.astype('float32') / 255.\n",
        "    if self.color:\n",
        "      self.frames = np.roll(self.frames, shift = -3, axis = 0)\n",
        "    else:\n",
        "      self.frames = np.roll(self.frames, shift = -1, axis = 0)\n",
        "    if self.color:\n",
        "      self.frames[-3:] = img\n",
        "    else:\n",
        "      self.frames[-1] = img\n",
        "    return self.frames\n",
        "\n",
        "  def update_buffer(self, obs):\n",
        "    self.frames = self.observation(obs)\n",
        "\n",
        "def make_env():\n",
        "  env = gym.make(\"KangarooDeterministic-v0\", render_mode = 'rgb_array')\n",
        "  env = PreprocessAtari(env, height = 42, width = 42, crop = lambda img: img, dim_order = 'pytorch', color = False, n_frames = 4)\n",
        "  return env\n",
        "\n",
        "env = make_env()\n",
        "\n",
        "state_shape = env.observation_space.shape\n",
        "number_actions = env.action_space.n\n",
        "print(\"Observation shape:\", state_shape)\n",
        "print(\"Number actions:\", number_actions)\n",
        "print(\"Action names:\", env.env.env.get_action_meanings())"
      ],
      "metadata": {
        "colab": {
          "base_uri": "https://localhost:8080/"
        },
        "id": "gF756uIhRVcK",
        "outputId": "03c66a2f-ecdd-4fac-bb81-5ff33c19ab68"
      },
      "execution_count": 116,
      "outputs": [
        {
          "output_type": "stream",
          "name": "stdout",
          "text": [
            "Observation shape: (4, 42, 42)\n",
            "Number actions: 18\n",
            "Action names: ['NOOP', 'FIRE', 'UP', 'RIGHT', 'LEFT', 'DOWN', 'UPRIGHT', 'UPLEFT', 'DOWNRIGHT', 'DOWNLEFT', 'UPFIRE', 'RIGHTFIRE', 'LEFTFIRE', 'DOWNFIRE', 'UPRIGHTFIRE', 'UPLEFTFIRE', 'DOWNRIGHTFIRE', 'DOWNLEFTFIRE']\n"
          ]
        },
        {
          "output_type": "stream",
          "name": "stderr",
          "text": [
            "/usr/local/lib/python3.10/dist-packages/gymnasium/envs/registration.py:513: DeprecationWarning: \u001b[33mWARN: The environment KangarooDeterministic-v0 is out of date. You should consider upgrading to version `v4`.\u001b[0m\n",
            "  logger.deprecation(\n",
            "/usr/local/lib/python3.10/dist-packages/gymnasium/core.py:311: UserWarning: \u001b[33mWARN: env.get_action_meanings to get variables from other wrappers is deprecated and will be removed in v1.0, to get this variable you can do `env.unwrapped.get_action_meanings` for environment variables or `env.get_wrapper_attr('get_action_meanings')` that will search the reminding wrappers.\u001b[0m\n",
            "  logger.warn(\n"
          ]
        }
      ]
    },
    {
      "cell_type": "markdown",
      "source": [
        "### Hyperparameters:"
      ],
      "metadata": {
        "id": "YgRlooBmC1hr"
      }
    },
    {
      "cell_type": "code",
      "source": [
        "learning_rate = 3e-4\n",
        "discount_factor = 0.9\n",
        "# Number of actors that will be trained:\n",
        "number_of_environments = 30"
      ],
      "metadata": {
        "id": "ylPYYSwTzr4j"
      },
      "execution_count": 117,
      "outputs": []
    },
    {
      "cell_type": "markdown",
      "source": [
        "### Implementing the A3C class"
      ],
      "metadata": {
        "id": "Gg_LmSs9IoTX"
      }
    },
    {
      "cell_type": "code",
      "source": [
        "class Actor():\n",
        "  def __init__(self, action_size):\n",
        "    self.device =torch.device('cuda:0' if torch.cuda.is_available() else 'cpu')\n",
        "    self.action_size = action_size\n",
        "    self.network = Network(action_size).to(self.device)\n",
        "    self.optimizer =torch.optim.Adam(self.network.parameters(), lr = learning_rate)\n",
        "\n",
        "  # I use the softmax strategy for choosing action, insead of epsilon greedy policy:\n",
        "  def act(self, state):\n",
        "  # State needs to be in the batch (extra dimension upfront):\n",
        "    if state.ndim == 3:\n",
        "      state = [state]\n",
        "    state  = torch.tensor(state, dtype = torch.float32, device = self.device)\n",
        "\n",
        "  # Calling the network on the state to get action values:\n",
        "    action_values, _ = self.network.forward(state)\n",
        "\n",
        "  # Softmax returns the probabilistic distribution, then, to get one especific action,\n",
        "  # we simply sample the action from this distribution using choise function:\n",
        "    policy = F.softmax(action_values, dim = -1)\n",
        "    return np.array([np.random.choice(len(p), p = p) for p in policy.detach().cpu().numpy()])\n",
        "\n",
        "  def step(self, state, action, reward, next_state, done):  # inputs are in batches\n",
        "    batch_size = state.shape[0]\n",
        "  # All inputs are numpy arrays, we want them to be tensors:\n",
        "    state = torch.tensor(state, dtype = torch.float32, device = self.device )\n",
        "    next_state = torch.tensor(next_state, dtype = torch.float32, device = self.device )\n",
        "    reward = torch.tensor(reward, dtype = torch.float32, device = self.device )\n",
        "    done = torch.tensor(done, dtype = torch.bool, device = self.device ).to(dtype = torch.float32)\n",
        "    action_values, state_value = self.network(state)\n",
        "    _, next_state_value =self.network(next_state)\n",
        "\n",
        "  # Bellman equation gets us the target state value:\n",
        "    target_state_value = reward + discount_factor * next_state_value * (1 - done)\n",
        "\n",
        "  # Advantage feature:\n",
        "    advantage = target_state_value - state_value\n",
        "\n",
        "  # Actor's loss requires computing entropy:\n",
        "    probs = F.softmax(action_values, dim = -1)\n",
        "    logprobs = F.log_softmax(action_values, dim = -1)\n",
        "    entropy = -torch.sum(probs * logprobs, dim = -1)\n",
        "    batch_idx = np.arange(batch_size)\n",
        "\n",
        "  # Select log probs of the actions\n",
        "    logp_actions = logprobs[batch_idx, action]\n",
        "\n",
        "  # Actor's loss:\n",
        "    actor_loss = -(logp_actions * advantage.detach()).mean() - 0.001 * entropy.mean()\n",
        "\n",
        "  # Critic's loss:\n",
        "    critic_loss = F.mse_loss(target_state_value.detach(), state_value)\n",
        "\n",
        "  # Total loss:\n",
        "    total_loss = actor_loss + critic_loss\n",
        "\n",
        "    self.optimizer.zero_grad()\n",
        "    total_loss.backward()\n",
        "    self.optimizer.step()\n",
        "\n",
        "\n",
        "\n",
        "\n"
      ],
      "metadata": {
        "id": "FzVNdnbCLfy9"
      },
      "execution_count": 118,
      "outputs": []
    },
    {
      "cell_type": "markdown",
      "source": [
        "### Initializing the A3C actor:"
      ],
      "metadata": {
        "id": "7RnRukHDKFJ0"
      }
    },
    {
      "cell_type": "code",
      "source": [
        "actor = Actor(number_actions)"
      ],
      "metadata": {
        "id": "B2joULhs0tkW"
      },
      "execution_count": 119,
      "outputs": []
    },
    {
      "cell_type": "markdown",
      "source": [
        "### Evaluating our A3C agent on a single episode"
      ],
      "metadata": {
        "id": "oB5SpmoKP0aK"
      }
    },
    {
      "cell_type": "code",
      "source": [
        "# Returning accumulated rewards over some number of episodes:\n",
        "\n",
        "def evaluate(actor,env, n_episodes = 1):\n",
        "  episodes_rewards =[];\n",
        "  for _ in range(n_episodes):\n",
        "    state, _ = env.reset()\n",
        "    total_reward = 0\n",
        "    while True:\n",
        "      action = actor.act(state)\n",
        "\n",
        "# State below is the next state the agent reaches after this state, using the env method, step()\n",
        "      state, reward, done, info, _ = env.step(action[0])\n",
        "      total_reward += reward\n",
        "      if done:\n",
        "        break\n",
        "    episodes_rewards.append(total_reward)\n",
        "  return episodes_rewards"
      ],
      "metadata": {
        "id": "1OW3nBny1vNd"
      },
      "execution_count": 120,
      "outputs": []
    },
    {
      "cell_type": "markdown",
      "source": [
        "### Testing multiple actors on multiple environments at the same time:"
      ],
      "metadata": {
        "id": "jVSqiyjiQeMd"
      }
    },
    {
      "cell_type": "code",
      "source": [
        "class EnvBatch:\n",
        "\n",
        "  def __init__(self, n_envs = 25):\n",
        "    self.envs = [make_env() for _ in range(n_envs)]\n",
        "\n",
        "  def reset(self):\n",
        "    _states =[]\n",
        "    for env in self.envs:\n",
        "      _states.append(env.reset()[0])\n",
        "    return np.array(_states)\n",
        "\n",
        "# Defining a multienvironment step method that takes in mutiple actors:\n",
        "\n",
        "  def step(self, actions):\n",
        "    next_states, rewards, dones, infos, _ = map(np.array, zip(*[env.step(a) for env, a in zip(self.envs, actions)]))\n",
        "    for i in range(len(self.envs)):\n",
        "      if dones[i]:\n",
        "        next_states[i] = self.envs[i].reset()[0]\n",
        "    return next_states, rewards, dones, infos\n",
        "\n"
      ],
      "metadata": {
        "id": "BXu35aA0GkHY"
      },
      "execution_count": 121,
      "outputs": []
    },
    {
      "cell_type": "markdown",
      "source": [
        "### Training the A3C actors:"
      ],
      "metadata": {
        "id": "69WZWB4oRx1P"
      }
    },
    {
      "cell_type": "code",
      "source": [
        "import tqdm\n",
        "\n",
        "env_batch = EnvBatch(n_envs = number_of_environments)\n",
        "batch_states = env_batch.reset()\n",
        "with tqdm.trange(4001) as progress_bar:\n",
        "  for i in progress_bar:\n",
        "\n",
        "    # Taking action:\n",
        "    batch_actions = actor.act(batch_states)\n",
        "    batch_next_states, batch_rewards, batch_dones, _ = env_batch.step(batch_actions)\n",
        "\n",
        "    # Stabilizing training:\n",
        "    batch_rewards *= 0.01\n",
        "\n",
        "    # Training:\n",
        "    actor.step(batch_states, batch_actions, batch_rewards, batch_next_states, batch_dones)\n",
        "\n",
        "    # Updating batch_states:\n",
        "    batch_states = batch_next_states\n",
        "    if i % 1000 ==0:\n",
        "      print(\"Average actor reward: \", np.mean(evaluate(actor, env, n_episodes = 10)))"
      ],
      "metadata": {
        "id": "4SnJQKzPGn8c",
        "colab": {
          "base_uri": "https://localhost:8080/"
        },
        "outputId": "6c686544-106a-4873-fe08-d7a2c822a560"
      },
      "execution_count": 122,
      "outputs": [
        {
          "output_type": "stream",
          "name": "stderr",
          "text": [
            "\r  0%|          | 0/4001 [00:00<?, ?it/s]<ipython-input-118-a55257290909>:52: UserWarning: Using a target size (torch.Size([1])) that is different to the input size (torch.Size([30])). This will likely lead to incorrect results due to broadcasting. Please ensure they have the same size.\n",
            "  critic_loss = F.mse_loss(target_state_value.detach(), state_value)\n",
            "<ipython-input-118-a55257290909>:13: UserWarning: Creating a tensor from a list of numpy.ndarrays is extremely slow. Please consider converting the list to a single numpy.ndarray with numpy.array() before converting to a tensor. (Triggered internally at ../torch/csrc/utils/tensor_new.cpp:278.)\n",
            "  state  = torch.tensor(state, dtype = torch.float32, device = self.device)\n",
            "  0%|          | 1/4001 [01:13<82:04:18, 73.86s/it]"
          ]
        },
        {
          "output_type": "stream",
          "name": "stdout",
          "text": [
            "Average actor reward:  60.0\n"
          ]
        },
        {
          "output_type": "stream",
          "name": "stderr",
          "text": [
            " 25%|██▌       | 1001/4001 [27:19<12:54:57, 15.50s/it]"
          ]
        },
        {
          "output_type": "stream",
          "name": "stdout",
          "text": [
            "Average actor reward:  0.0\n"
          ]
        },
        {
          "output_type": "stream",
          "name": "stderr",
          "text": [
            " 50%|█████     | 2001/4001 [54:55<17:25:13, 31.36s/it]"
          ]
        },
        {
          "output_type": "stream",
          "name": "stdout",
          "text": [
            "Average actor reward:  0.0\n"
          ]
        },
        {
          "output_type": "stream",
          "name": "stderr",
          "text": [
            " 75%|███████▌  | 3001/4001 [1:22:13<6:14:01, 22.44s/it]"
          ]
        },
        {
          "output_type": "stream",
          "name": "stdout",
          "text": [
            "Average actor reward:  20.0\n"
          ]
        },
        {
          "output_type": "stream",
          "name": "stderr",
          "text": [
            "100%|██████████| 4001/4001 [1:49:42<00:00,  1.65s/it]"
          ]
        },
        {
          "output_type": "stream",
          "name": "stdout",
          "text": [
            "Average actor reward:  400.0\n"
          ]
        },
        {
          "output_type": "stream",
          "name": "stderr",
          "text": [
            "\n"
          ]
        }
      ]
    },
    {
      "cell_type": "markdown",
      "source": [
        "### Visualizing the results:"
      ],
      "metadata": {
        "id": "7kG_YR9YdmUM"
      }
    },
    {
      "cell_type": "code",
      "source": [
        "# The code in this cell is provided by the Udemy course Artificial Intelligence A-Z 2024:\n",
        "\n",
        "import glob\n",
        "import io\n",
        "import base64\n",
        "import imageio\n",
        "from IPython.display import HTML, display\n",
        "from gymnasium.wrappers.monitoring.video_recorder import VideoRecorder\n",
        "\n",
        "def show_video_of_model(actor, env):\n",
        "  state, _ = env.reset()\n",
        "  done = False\n",
        "  frames = []\n",
        "  while not done:\n",
        "    frame = env.render()\n",
        "    frames.append(frame)\n",
        "    action = actor.act(state)\n",
        "    state, reward, done, _, _ = env.step(action[0])\n",
        "  env.close()\n",
        "  imageio.mimsave('video.mp4', frames, fps=30)\n",
        "\n",
        "show_video_of_model(actor, env)\n",
        "\n",
        "def show_video():\n",
        "    mp4list = glob.glob('*.mp4')\n",
        "    if len(mp4list) > 0:\n",
        "        mp4 = mp4list[0]\n",
        "        video = io.open(mp4, 'r+b').read()\n",
        "        encoded = base64.b64encode(video)\n",
        "        display(HTML(data='''<video alt=\"test\" autoplay\n",
        "                loop controls style=\"height: 400px;\">\n",
        "                <source src=\"data:video/mp4;base64,{0}\" type=\"video/mp4\" />\n",
        "             </video>'''.format(encoded.decode('ascii'))))\n",
        "    else:\n",
        "        print(\"Could not find video\")\n",
        "\n",
        "show_video()"
      ],
      "metadata": {
        "id": "UGkTuO6DxZ6B",
        "colab": {
          "base_uri": "https://localhost:8080/",
          "height": 492
        },
        "outputId": "ff3c1d80-76fd-4ac3-da85-dac6d4ae3814"
      },
      "execution_count": 123,
      "outputs": [
        {
          "output_type": "stream",
          "name": "stderr",
          "text": [
            "/usr/local/lib/python3.10/dist-packages/gymnasium/utils/passive_env_checker.py:335: UserWarning: \u001b[33mWARN: No render fps was declared in the environment (env.metadata['render_fps'] is None or not defined), rendering may occur at inconsistent fps.\u001b[0m\n",
            "  logger.warn(\n",
            "WARNING:imageio_ffmpeg:IMAGEIO FFMPEG_WRITER WARNING: input image is not divisible by macro_block_size=16, resizing from (160, 210) to (160, 224) to ensure video compatibility with most codecs and players. To prevent resizing, make your input image divisible by the macro_block_size or set the macro_block_size to 1 (risking incompatibility).\n"
          ]
        },
        {
          "output_type": "display_data",
          "data": {
            "text/plain": [
              "<IPython.core.display.HTML object>"
            ],
            "text/html": [
              "<video alt=\"test\" autoplay\n",
              "                loop controls style=\"height: 400px;\">\n",
              "                <source src=\"data:video/mp4;base64,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\" type=\"video/mp4\" />\n",
              "             </video>"
            ]
          },
          "metadata": {}
        }
      ]
    },
    {
      "cell_type": "markdown",
      "source": [
        "By all means, mama kangaroo did not succeed. I tried  convolutional layers with different number of nodes and different sizes of kernels, as well as different learning rate, number of actors, and discount factor. 400 points is my personal best.\n",
        "\n",
        "\n",
        "I think that this environment is spacially very complex. Actors have to learn to get to a ladder, on several levels, while avoiding falling bullets and hostile creatures. If you have any comments on how to improve this architecture, please message me on linkedin: https://www.linkedin.com/in/elzbieta-polak/\n",
        "\n"
      ],
      "metadata": {
        "id": "KCNomlX6fiGe"
      }
    }
  ],
  "metadata": {
    "colab": {
      "provenance": [],
      "gpuType": "T4"
    },
    "kernelspec": {
      "display_name": "Python 3",
      "name": "python3"
    },
    "language_info": {
      "name": "python"
    }
  },
  "nbformat": 4,
  "nbformat_minor": 0
}