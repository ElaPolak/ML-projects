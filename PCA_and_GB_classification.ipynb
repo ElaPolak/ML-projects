{
 "cells": [
  {
   "cell_type": "markdown",
   "metadata": {},
   "source": [
    "# Table of contents\n",
    "1. [Preliminaries](#preliminaries)\n",
    "2. [Coding PCA](#coding)\n",
    "3. [Obtaining principal components](#components)\n",
    "4. [Performing Gradient Boosting Classification with principal components](#classification1)\n",
    "5. [Performing Gradient Boosting Classification with all features](#classification2)\n",
    "\n",
    "In this notbook I'm using the Diabetes Health Indicators Dataset https://www.kaggle.com/datasets/julnazz/diabetes-health-indicators-dataset downloaded from Kaggle. I take up a classification task, where I'm using ther Gradeint Boosting Classifier to predict whether a patient has diabetes or not. But first, I aim to reduce the dimensinality of features. I code the Principal Components Analysis and find lower dimensional subspaces of features: first 3-, then 10-dimensional. I compare the classification performance ewith smaller number of features to classification using all original features."
   ]
  },
  {
   "cell_type": "markdown",
   "metadata": {},
   "source": [
    "# Preliminaries <a name=\"preliminaries\"></a>"
   ]
  },
  {
   "cell_type": "code",
   "execution_count": 1,
   "metadata": {},
   "outputs": [],
   "source": [
    "import pandas as pd\n",
    "from pandasql import sqldf\n",
    "from pandasql import sqldf\n",
    "from scipy import stats\n",
    "import numpy as np\n",
    "import seaborn as sn\n",
    "import math\n",
    "import pylab\n",
    "import matplotlib.pyplot as plt\n",
    "from sklearn import preprocessing\n",
    "from sklearn.preprocessing import MinMaxScaler\n",
    "from sklearn.pipeline import Pipeline\n",
    "from numpy import linalg as LA\n",
    "from scipy.sparse.linalg import eigsh\n",
    "\n",
    "from sklearn.preprocessing import Normalizer, StandardScaler, MinMaxScaler, PowerTransformer, MaxAbsScaler, KBinsDiscretizer, PowerTransformer, QuantileTransformer, RobustScaler\n",
    "from sklearn.feature_selection import VarianceThreshold\n",
    "\n",
    "# model training/tuning\n",
    "from sklearn.pipeline import Pipeline, make_pipeline \n",
    "from sklearn.model_selection import train_test_split, GridSearchCV \n",
    "from sklearn.dummy import DummyClassifier\n",
    "\n",
    "# models\n",
    "from sklearn.neighbors import KNeighborsClassifier \n",
    "from sklearn.linear_model import LogisticRegression\n",
    "from sklearn.naive_bayes import GaussianNB\n",
    "from sklearn.ensemble import RandomForestClassifier, GradientBoostingClassifier\n",
    "\n",
    "# model validation\n",
    "from sklearn.metrics import confusion_matrix, ConfusionMatrixDisplay, classification_report, recall_score, accuracy_score, make_scorer\n",
    "\n",
    "\n",
    "import csv\n",
    "import warnings\n",
    "warnings.filterwarnings('always')  # Possibilities: \"error\", \"ignore\", \"always\", \"default\", \"module\" or \"once\"\n",
    "\n",
    "\n",
    "np.int = int\n",
    "np.bool= bool\n"
   ]
  },
  {
   "cell_type": "code",
   "execution_count": 2,
   "metadata": {},
   "outputs": [],
   "source": [
    "data=pd.read_csv('/Users/elzbietapolak/Desktop/Healthcare_dataset/diabetes_binary_5050split_health_indicators_BRFSS2021.csv')"
   ]
  },
  {
   "cell_type": "code",
   "execution_count": 3,
   "metadata": {},
   "outputs": [
    {
     "data": {
      "text/html": [
       "<div>\n",
       "<style scoped>\n",
       "    .dataframe tbody tr th:only-of-type {\n",
       "        vertical-align: middle;\n",
       "    }\n",
       "\n",
       "    .dataframe tbody tr th {\n",
       "        vertical-align: top;\n",
       "    }\n",
       "\n",
       "    .dataframe thead th {\n",
       "        text-align: right;\n",
       "    }\n",
       "</style>\n",
       "<table border=\"1\" class=\"dataframe\">\n",
       "  <thead>\n",
       "    <tr style=\"text-align: right;\">\n",
       "      <th></th>\n",
       "      <th>Diabetes_binary</th>\n",
       "      <th>HighBP</th>\n",
       "      <th>HighChol</th>\n",
       "      <th>CholCheck</th>\n",
       "      <th>BMI</th>\n",
       "      <th>Smoker</th>\n",
       "      <th>Stroke</th>\n",
       "      <th>HeartDiseaseorAttack</th>\n",
       "      <th>PhysActivity</th>\n",
       "      <th>Fruits</th>\n",
       "      <th>Veggies</th>\n",
       "      <th>HvyAlcoholConsump</th>\n",
       "      <th>AnyHealthcare</th>\n",
       "      <th>NoDocbcCost</th>\n",
       "      <th>GenHlth</th>\n",
       "      <th>MentHlth</th>\n",
       "      <th>PhysHlth</th>\n",
       "      <th>DiffWalk</th>\n",
       "      <th>Sex</th>\n",
       "      <th>Age</th>\n",
       "      <th>Education</th>\n",
       "      <th>Income</th>\n",
       "    </tr>\n",
       "  </thead>\n",
       "  <tbody>\n",
       "    <tr>\n",
       "      <th>count</th>\n",
       "      <td>67136.000000</td>\n",
       "      <td>67136.000000</td>\n",
       "      <td>67136.000000</td>\n",
       "      <td>67136.000000</td>\n",
       "      <td>67136.000000</td>\n",
       "      <td>67136.000000</td>\n",
       "      <td>67136.000000</td>\n",
       "      <td>67136.000000</td>\n",
       "      <td>67136.000000</td>\n",
       "      <td>67136.000000</td>\n",
       "      <td>67136.000000</td>\n",
       "      <td>67136.000000</td>\n",
       "      <td>67136.000000</td>\n",
       "      <td>67136.000000</td>\n",
       "      <td>67136.000000</td>\n",
       "      <td>67136.000000</td>\n",
       "      <td>67136.000000</td>\n",
       "      <td>67136.000000</td>\n",
       "      <td>67136.000000</td>\n",
       "      <td>67136.000000</td>\n",
       "      <td>67136.000000</td>\n",
       "      <td>67136.000000</td>\n",
       "    </tr>\n",
       "    <tr>\n",
       "      <th>mean</th>\n",
       "      <td>0.500000</td>\n",
       "      <td>0.548320</td>\n",
       "      <td>0.500238</td>\n",
       "      <td>0.976227</td>\n",
       "      <td>30.288340</td>\n",
       "      <td>0.440151</td>\n",
       "      <td>0.058866</td>\n",
       "      <td>0.136633</td>\n",
       "      <td>0.717260</td>\n",
       "      <td>0.605919</td>\n",
       "      <td>0.810608</td>\n",
       "      <td>0.049109</td>\n",
       "      <td>0.967260</td>\n",
       "      <td>0.066522</td>\n",
       "      <td>2.774756</td>\n",
       "      <td>4.230845</td>\n",
       "      <td>5.136752</td>\n",
       "      <td>0.231202</td>\n",
       "      <td>0.493431</td>\n",
       "      <td>8.501743</td>\n",
       "      <td>5.035912</td>\n",
       "      <td>6.563885</td>\n",
       "    </tr>\n",
       "    <tr>\n",
       "      <th>std</th>\n",
       "      <td>0.500004</td>\n",
       "      <td>0.497663</td>\n",
       "      <td>0.500004</td>\n",
       "      <td>0.152341</td>\n",
       "      <td>7.095737</td>\n",
       "      <td>0.496409</td>\n",
       "      <td>0.235375</td>\n",
       "      <td>0.343462</td>\n",
       "      <td>0.450334</td>\n",
       "      <td>0.488656</td>\n",
       "      <td>0.391822</td>\n",
       "      <td>0.216098</td>\n",
       "      <td>0.177955</td>\n",
       "      <td>0.249194</td>\n",
       "      <td>1.073759</td>\n",
       "      <td>8.323138</td>\n",
       "      <td>9.593837</td>\n",
       "      <td>0.421605</td>\n",
       "      <td>0.499961</td>\n",
       "      <td>3.019624</td>\n",
       "      <td>0.981610</td>\n",
       "      <td>2.422641</td>\n",
       "    </tr>\n",
       "    <tr>\n",
       "      <th>min</th>\n",
       "      <td>0.000000</td>\n",
       "      <td>0.000000</td>\n",
       "      <td>0.000000</td>\n",
       "      <td>0.000000</td>\n",
       "      <td>12.000000</td>\n",
       "      <td>0.000000</td>\n",
       "      <td>0.000000</td>\n",
       "      <td>0.000000</td>\n",
       "      <td>0.000000</td>\n",
       "      <td>0.000000</td>\n",
       "      <td>0.000000</td>\n",
       "      <td>0.000000</td>\n",
       "      <td>0.000000</td>\n",
       "      <td>0.000000</td>\n",
       "      <td>1.000000</td>\n",
       "      <td>0.000000</td>\n",
       "      <td>0.000000</td>\n",
       "      <td>0.000000</td>\n",
       "      <td>0.000000</td>\n",
       "      <td>1.000000</td>\n",
       "      <td>1.000000</td>\n",
       "      <td>1.000000</td>\n",
       "    </tr>\n",
       "    <tr>\n",
       "      <th>25%</th>\n",
       "      <td>0.000000</td>\n",
       "      <td>0.000000</td>\n",
       "      <td>0.000000</td>\n",
       "      <td>1.000000</td>\n",
       "      <td>26.000000</td>\n",
       "      <td>0.000000</td>\n",
       "      <td>0.000000</td>\n",
       "      <td>0.000000</td>\n",
       "      <td>0.000000</td>\n",
       "      <td>0.000000</td>\n",
       "      <td>1.000000</td>\n",
       "      <td>0.000000</td>\n",
       "      <td>1.000000</td>\n",
       "      <td>0.000000</td>\n",
       "      <td>2.000000</td>\n",
       "      <td>0.000000</td>\n",
       "      <td>0.000000</td>\n",
       "      <td>0.000000</td>\n",
       "      <td>0.000000</td>\n",
       "      <td>7.000000</td>\n",
       "      <td>4.000000</td>\n",
       "      <td>5.000000</td>\n",
       "    </tr>\n",
       "    <tr>\n",
       "      <th>50%</th>\n",
       "      <td>0.500000</td>\n",
       "      <td>1.000000</td>\n",
       "      <td>1.000000</td>\n",
       "      <td>1.000000</td>\n",
       "      <td>29.000000</td>\n",
       "      <td>0.000000</td>\n",
       "      <td>0.000000</td>\n",
       "      <td>0.000000</td>\n",
       "      <td>1.000000</td>\n",
       "      <td>1.000000</td>\n",
       "      <td>1.000000</td>\n",
       "      <td>0.000000</td>\n",
       "      <td>1.000000</td>\n",
       "      <td>0.000000</td>\n",
       "      <td>3.000000</td>\n",
       "      <td>0.000000</td>\n",
       "      <td>0.000000</td>\n",
       "      <td>0.000000</td>\n",
       "      <td>0.000000</td>\n",
       "      <td>9.000000</td>\n",
       "      <td>5.000000</td>\n",
       "      <td>7.000000</td>\n",
       "    </tr>\n",
       "    <tr>\n",
       "      <th>75%</th>\n",
       "      <td>1.000000</td>\n",
       "      <td>1.000000</td>\n",
       "      <td>1.000000</td>\n",
       "      <td>1.000000</td>\n",
       "      <td>34.000000</td>\n",
       "      <td>1.000000</td>\n",
       "      <td>0.000000</td>\n",
       "      <td>0.000000</td>\n",
       "      <td>1.000000</td>\n",
       "      <td>1.000000</td>\n",
       "      <td>1.000000</td>\n",
       "      <td>0.000000</td>\n",
       "      <td>1.000000</td>\n",
       "      <td>0.000000</td>\n",
       "      <td>3.000000</td>\n",
       "      <td>4.000000</td>\n",
       "      <td>5.000000</td>\n",
       "      <td>0.000000</td>\n",
       "      <td>1.000000</td>\n",
       "      <td>11.000000</td>\n",
       "      <td>6.000000</td>\n",
       "      <td>8.000000</td>\n",
       "    </tr>\n",
       "    <tr>\n",
       "      <th>max</th>\n",
       "      <td>1.000000</td>\n",
       "      <td>1.000000</td>\n",
       "      <td>1.000000</td>\n",
       "      <td>1.000000</td>\n",
       "      <td>99.000000</td>\n",
       "      <td>1.000000</td>\n",
       "      <td>1.000000</td>\n",
       "      <td>1.000000</td>\n",
       "      <td>1.000000</td>\n",
       "      <td>1.000000</td>\n",
       "      <td>1.000000</td>\n",
       "      <td>1.000000</td>\n",
       "      <td>1.000000</td>\n",
       "      <td>1.000000</td>\n",
       "      <td>5.000000</td>\n",
       "      <td>30.000000</td>\n",
       "      <td>30.000000</td>\n",
       "      <td>1.000000</td>\n",
       "      <td>1.000000</td>\n",
       "      <td>13.000000</td>\n",
       "      <td>6.000000</td>\n",
       "      <td>11.000000</td>\n",
       "    </tr>\n",
       "  </tbody>\n",
       "</table>\n",
       "</div>"
      ],
      "text/plain": [
       "       Diabetes_binary        HighBP      HighChol     CholCheck  \\\n",
       "count     67136.000000  67136.000000  67136.000000  67136.000000   \n",
       "mean          0.500000      0.548320      0.500238      0.976227   \n",
       "std           0.500004      0.497663      0.500004      0.152341   \n",
       "min           0.000000      0.000000      0.000000      0.000000   \n",
       "25%           0.000000      0.000000      0.000000      1.000000   \n",
       "50%           0.500000      1.000000      1.000000      1.000000   \n",
       "75%           1.000000      1.000000      1.000000      1.000000   \n",
       "max           1.000000      1.000000      1.000000      1.000000   \n",
       "\n",
       "                BMI        Smoker        Stroke  HeartDiseaseorAttack  \\\n",
       "count  67136.000000  67136.000000  67136.000000          67136.000000   \n",
       "mean      30.288340      0.440151      0.058866              0.136633   \n",
       "std        7.095737      0.496409      0.235375              0.343462   \n",
       "min       12.000000      0.000000      0.000000              0.000000   \n",
       "25%       26.000000      0.000000      0.000000              0.000000   \n",
       "50%       29.000000      0.000000      0.000000              0.000000   \n",
       "75%       34.000000      1.000000      0.000000              0.000000   \n",
       "max       99.000000      1.000000      1.000000              1.000000   \n",
       "\n",
       "       PhysActivity        Fruits       Veggies  HvyAlcoholConsump  \\\n",
       "count  67136.000000  67136.000000  67136.000000       67136.000000   \n",
       "mean       0.717260      0.605919      0.810608           0.049109   \n",
       "std        0.450334      0.488656      0.391822           0.216098   \n",
       "min        0.000000      0.000000      0.000000           0.000000   \n",
       "25%        0.000000      0.000000      1.000000           0.000000   \n",
       "50%        1.000000      1.000000      1.000000           0.000000   \n",
       "75%        1.000000      1.000000      1.000000           0.000000   \n",
       "max        1.000000      1.000000      1.000000           1.000000   \n",
       "\n",
       "       AnyHealthcare   NoDocbcCost       GenHlth      MentHlth      PhysHlth  \\\n",
       "count   67136.000000  67136.000000  67136.000000  67136.000000  67136.000000   \n",
       "mean        0.967260      0.066522      2.774756      4.230845      5.136752   \n",
       "std         0.177955      0.249194      1.073759      8.323138      9.593837   \n",
       "min         0.000000      0.000000      1.000000      0.000000      0.000000   \n",
       "25%         1.000000      0.000000      2.000000      0.000000      0.000000   \n",
       "50%         1.000000      0.000000      3.000000      0.000000      0.000000   \n",
       "75%         1.000000      0.000000      3.000000      4.000000      5.000000   \n",
       "max         1.000000      1.000000      5.000000     30.000000     30.000000   \n",
       "\n",
       "           DiffWalk           Sex           Age     Education        Income  \n",
       "count  67136.000000  67136.000000  67136.000000  67136.000000  67136.000000  \n",
       "mean       0.231202      0.493431      8.501743      5.035912      6.563885  \n",
       "std        0.421605      0.499961      3.019624      0.981610      2.422641  \n",
       "min        0.000000      0.000000      1.000000      1.000000      1.000000  \n",
       "25%        0.000000      0.000000      7.000000      4.000000      5.000000  \n",
       "50%        0.000000      0.000000      9.000000      5.000000      7.000000  \n",
       "75%        0.000000      1.000000     11.000000      6.000000      8.000000  \n",
       "max        1.000000      1.000000     13.000000      6.000000     11.000000  "
      ]
     },
     "execution_count": 3,
     "metadata": {},
     "output_type": "execute_result"
    }
   ],
   "source": [
    "pd.set_option('display.max_columns', None)\n",
    "data.describe()"
   ]
  },
  {
   "cell_type": "code",
   "execution_count": 4,
   "metadata": {},
   "outputs": [],
   "source": [
    "# Showing all columns\n",
    "pd.set_option('display.max_columns', None)\n",
    "\n"
   ]
  },
  {
   "cell_type": "code",
   "execution_count": 5,
   "metadata": {},
   "outputs": [],
   "source": [
    "RANDOM=41 "
   ]
  },
  {
   "cell_type": "code",
   "execution_count": 6,
   "metadata": {},
   "outputs": [],
   "source": [
    "# Using 200 samples for training:\n",
    "data1=data.sample(200,random_state=RANDOM, axis=0)\n"
   ]
  },
  {
   "cell_type": "code",
   "execution_count": 7,
   "metadata": {},
   "outputs": [
    {
     "data": {
      "text/html": [
       "<div>\n",
       "<style scoped>\n",
       "    .dataframe tbody tr th:only-of-type {\n",
       "        vertical-align: middle;\n",
       "    }\n",
       "\n",
       "    .dataframe tbody tr th {\n",
       "        vertical-align: top;\n",
       "    }\n",
       "\n",
       "    .dataframe thead th {\n",
       "        text-align: right;\n",
       "    }\n",
       "</style>\n",
       "<table border=\"1\" class=\"dataframe\">\n",
       "  <thead>\n",
       "    <tr style=\"text-align: right;\">\n",
       "      <th></th>\n",
       "      <th>Diabetes_binary</th>\n",
       "      <th>HighBP</th>\n",
       "      <th>HighChol</th>\n",
       "      <th>CholCheck</th>\n",
       "      <th>BMI</th>\n",
       "      <th>Smoker</th>\n",
       "      <th>Stroke</th>\n",
       "      <th>HeartDiseaseorAttack</th>\n",
       "      <th>PhysActivity</th>\n",
       "      <th>Fruits</th>\n",
       "      <th>Veggies</th>\n",
       "      <th>HvyAlcoholConsump</th>\n",
       "      <th>AnyHealthcare</th>\n",
       "      <th>NoDocbcCost</th>\n",
       "      <th>GenHlth</th>\n",
       "      <th>MentHlth</th>\n",
       "      <th>PhysHlth</th>\n",
       "      <th>DiffWalk</th>\n",
       "      <th>Sex</th>\n",
       "      <th>Age</th>\n",
       "      <th>Education</th>\n",
       "      <th>Income</th>\n",
       "    </tr>\n",
       "  </thead>\n",
       "  <tbody>\n",
       "    <tr>\n",
       "      <th>count</th>\n",
       "      <td>200.000000</td>\n",
       "      <td>200.000000</td>\n",
       "      <td>200.000000</td>\n",
       "      <td>200.000000</td>\n",
       "      <td>200.000000</td>\n",
       "      <td>200.000000</td>\n",
       "      <td>200.000000</td>\n",
       "      <td>200.000000</td>\n",
       "      <td>200.000000</td>\n",
       "      <td>200.000000</td>\n",
       "      <td>200.000000</td>\n",
       "      <td>200.000000</td>\n",
       "      <td>200.000000</td>\n",
       "      <td>200.000000</td>\n",
       "      <td>200.000000</td>\n",
       "      <td>200.000000</td>\n",
       "      <td>200.000000</td>\n",
       "      <td>200.00000</td>\n",
       "      <td>200.000000</td>\n",
       "      <td>200.000000</td>\n",
       "      <td>200.000000</td>\n",
       "      <td>200.000000</td>\n",
       "    </tr>\n",
       "    <tr>\n",
       "      <th>mean</th>\n",
       "      <td>0.515000</td>\n",
       "      <td>0.490000</td>\n",
       "      <td>0.500000</td>\n",
       "      <td>0.965000</td>\n",
       "      <td>30.110000</td>\n",
       "      <td>0.420000</td>\n",
       "      <td>0.060000</td>\n",
       "      <td>0.130000</td>\n",
       "      <td>0.745000</td>\n",
       "      <td>0.625000</td>\n",
       "      <td>0.795000</td>\n",
       "      <td>0.040000</td>\n",
       "      <td>0.965000</td>\n",
       "      <td>0.070000</td>\n",
       "      <td>2.715000</td>\n",
       "      <td>3.765000</td>\n",
       "      <td>3.475000</td>\n",
       "      <td>0.21000</td>\n",
       "      <td>0.480000</td>\n",
       "      <td>8.455000</td>\n",
       "      <td>5.045000</td>\n",
       "      <td>6.695000</td>\n",
       "    </tr>\n",
       "    <tr>\n",
       "      <th>std</th>\n",
       "      <td>0.501029</td>\n",
       "      <td>0.501154</td>\n",
       "      <td>0.501255</td>\n",
       "      <td>0.184241</td>\n",
       "      <td>6.590529</td>\n",
       "      <td>0.494797</td>\n",
       "      <td>0.238083</td>\n",
       "      <td>0.337147</td>\n",
       "      <td>0.436955</td>\n",
       "      <td>0.485338</td>\n",
       "      <td>0.404715</td>\n",
       "      <td>0.196451</td>\n",
       "      <td>0.184241</td>\n",
       "      <td>0.255787</td>\n",
       "      <td>0.958315</td>\n",
       "      <td>8.016928</td>\n",
       "      <td>7.778296</td>\n",
       "      <td>0.40833</td>\n",
       "      <td>0.500854</td>\n",
       "      <td>3.065118</td>\n",
       "      <td>0.947345</td>\n",
       "      <td>2.500648</td>\n",
       "    </tr>\n",
       "    <tr>\n",
       "      <th>min</th>\n",
       "      <td>0.000000</td>\n",
       "      <td>0.000000</td>\n",
       "      <td>0.000000</td>\n",
       "      <td>0.000000</td>\n",
       "      <td>15.000000</td>\n",
       "      <td>0.000000</td>\n",
       "      <td>0.000000</td>\n",
       "      <td>0.000000</td>\n",
       "      <td>0.000000</td>\n",
       "      <td>0.000000</td>\n",
       "      <td>0.000000</td>\n",
       "      <td>0.000000</td>\n",
       "      <td>0.000000</td>\n",
       "      <td>0.000000</td>\n",
       "      <td>1.000000</td>\n",
       "      <td>0.000000</td>\n",
       "      <td>0.000000</td>\n",
       "      <td>0.00000</td>\n",
       "      <td>0.000000</td>\n",
       "      <td>1.000000</td>\n",
       "      <td>2.000000</td>\n",
       "      <td>1.000000</td>\n",
       "    </tr>\n",
       "    <tr>\n",
       "      <th>25%</th>\n",
       "      <td>0.000000</td>\n",
       "      <td>0.000000</td>\n",
       "      <td>0.000000</td>\n",
       "      <td>1.000000</td>\n",
       "      <td>25.000000</td>\n",
       "      <td>0.000000</td>\n",
       "      <td>0.000000</td>\n",
       "      <td>0.000000</td>\n",
       "      <td>0.000000</td>\n",
       "      <td>0.000000</td>\n",
       "      <td>1.000000</td>\n",
       "      <td>0.000000</td>\n",
       "      <td>1.000000</td>\n",
       "      <td>0.000000</td>\n",
       "      <td>2.000000</td>\n",
       "      <td>0.000000</td>\n",
       "      <td>0.000000</td>\n",
       "      <td>0.00000</td>\n",
       "      <td>0.000000</td>\n",
       "      <td>6.000000</td>\n",
       "      <td>4.000000</td>\n",
       "      <td>5.000000</td>\n",
       "    </tr>\n",
       "    <tr>\n",
       "      <th>50%</th>\n",
       "      <td>1.000000</td>\n",
       "      <td>0.000000</td>\n",
       "      <td>0.500000</td>\n",
       "      <td>1.000000</td>\n",
       "      <td>29.000000</td>\n",
       "      <td>0.000000</td>\n",
       "      <td>0.000000</td>\n",
       "      <td>0.000000</td>\n",
       "      <td>1.000000</td>\n",
       "      <td>1.000000</td>\n",
       "      <td>1.000000</td>\n",
       "      <td>0.000000</td>\n",
       "      <td>1.000000</td>\n",
       "      <td>0.000000</td>\n",
       "      <td>3.000000</td>\n",
       "      <td>0.000000</td>\n",
       "      <td>0.000000</td>\n",
       "      <td>0.00000</td>\n",
       "      <td>0.000000</td>\n",
       "      <td>9.000000</td>\n",
       "      <td>5.000000</td>\n",
       "      <td>7.000000</td>\n",
       "    </tr>\n",
       "    <tr>\n",
       "      <th>75%</th>\n",
       "      <td>1.000000</td>\n",
       "      <td>1.000000</td>\n",
       "      <td>1.000000</td>\n",
       "      <td>1.000000</td>\n",
       "      <td>33.250000</td>\n",
       "      <td>1.000000</td>\n",
       "      <td>0.000000</td>\n",
       "      <td>0.000000</td>\n",
       "      <td>1.000000</td>\n",
       "      <td>1.000000</td>\n",
       "      <td>1.000000</td>\n",
       "      <td>0.000000</td>\n",
       "      <td>1.000000</td>\n",
       "      <td>0.000000</td>\n",
       "      <td>3.000000</td>\n",
       "      <td>3.000000</td>\n",
       "      <td>2.000000</td>\n",
       "      <td>0.00000</td>\n",
       "      <td>1.000000</td>\n",
       "      <td>11.000000</td>\n",
       "      <td>6.000000</td>\n",
       "      <td>9.000000</td>\n",
       "    </tr>\n",
       "    <tr>\n",
       "      <th>max</th>\n",
       "      <td>1.000000</td>\n",
       "      <td>1.000000</td>\n",
       "      <td>1.000000</td>\n",
       "      <td>1.000000</td>\n",
       "      <td>51.000000</td>\n",
       "      <td>1.000000</td>\n",
       "      <td>1.000000</td>\n",
       "      <td>1.000000</td>\n",
       "      <td>1.000000</td>\n",
       "      <td>1.000000</td>\n",
       "      <td>1.000000</td>\n",
       "      <td>1.000000</td>\n",
       "      <td>1.000000</td>\n",
       "      <td>1.000000</td>\n",
       "      <td>5.000000</td>\n",
       "      <td>30.000000</td>\n",
       "      <td>30.000000</td>\n",
       "      <td>1.00000</td>\n",
       "      <td>1.000000</td>\n",
       "      <td>13.000000</td>\n",
       "      <td>6.000000</td>\n",
       "      <td>11.000000</td>\n",
       "    </tr>\n",
       "  </tbody>\n",
       "</table>\n",
       "</div>"
      ],
      "text/plain": [
       "       Diabetes_binary      HighBP    HighChol   CholCheck         BMI  \\\n",
       "count       200.000000  200.000000  200.000000  200.000000  200.000000   \n",
       "mean          0.515000    0.490000    0.500000    0.965000   30.110000   \n",
       "std           0.501029    0.501154    0.501255    0.184241    6.590529   \n",
       "min           0.000000    0.000000    0.000000    0.000000   15.000000   \n",
       "25%           0.000000    0.000000    0.000000    1.000000   25.000000   \n",
       "50%           1.000000    0.000000    0.500000    1.000000   29.000000   \n",
       "75%           1.000000    1.000000    1.000000    1.000000   33.250000   \n",
       "max           1.000000    1.000000    1.000000    1.000000   51.000000   \n",
       "\n",
       "           Smoker      Stroke  HeartDiseaseorAttack  PhysActivity      Fruits  \\\n",
       "count  200.000000  200.000000            200.000000    200.000000  200.000000   \n",
       "mean     0.420000    0.060000              0.130000      0.745000    0.625000   \n",
       "std      0.494797    0.238083              0.337147      0.436955    0.485338   \n",
       "min      0.000000    0.000000              0.000000      0.000000    0.000000   \n",
       "25%      0.000000    0.000000              0.000000      0.000000    0.000000   \n",
       "50%      0.000000    0.000000              0.000000      1.000000    1.000000   \n",
       "75%      1.000000    0.000000              0.000000      1.000000    1.000000   \n",
       "max      1.000000    1.000000              1.000000      1.000000    1.000000   \n",
       "\n",
       "          Veggies  HvyAlcoholConsump  AnyHealthcare  NoDocbcCost     GenHlth  \\\n",
       "count  200.000000         200.000000     200.000000   200.000000  200.000000   \n",
       "mean     0.795000           0.040000       0.965000     0.070000    2.715000   \n",
       "std      0.404715           0.196451       0.184241     0.255787    0.958315   \n",
       "min      0.000000           0.000000       0.000000     0.000000    1.000000   \n",
       "25%      1.000000           0.000000       1.000000     0.000000    2.000000   \n",
       "50%      1.000000           0.000000       1.000000     0.000000    3.000000   \n",
       "75%      1.000000           0.000000       1.000000     0.000000    3.000000   \n",
       "max      1.000000           1.000000       1.000000     1.000000    5.000000   \n",
       "\n",
       "         MentHlth    PhysHlth   DiffWalk         Sex         Age   Education  \\\n",
       "count  200.000000  200.000000  200.00000  200.000000  200.000000  200.000000   \n",
       "mean     3.765000    3.475000    0.21000    0.480000    8.455000    5.045000   \n",
       "std      8.016928    7.778296    0.40833    0.500854    3.065118    0.947345   \n",
       "min      0.000000    0.000000    0.00000    0.000000    1.000000    2.000000   \n",
       "25%      0.000000    0.000000    0.00000    0.000000    6.000000    4.000000   \n",
       "50%      0.000000    0.000000    0.00000    0.000000    9.000000    5.000000   \n",
       "75%      3.000000    2.000000    0.00000    1.000000   11.000000    6.000000   \n",
       "max     30.000000   30.000000    1.00000    1.000000   13.000000    6.000000   \n",
       "\n",
       "           Income  \n",
       "count  200.000000  \n",
       "mean     6.695000  \n",
       "std      2.500648  \n",
       "min      1.000000  \n",
       "25%      5.000000  \n",
       "50%      7.000000  \n",
       "75%      9.000000  \n",
       "max     11.000000  "
      ]
     },
     "execution_count": 7,
     "metadata": {},
     "output_type": "execute_result"
    }
   ],
   "source": [
    "data1.describe()"
   ]
  },
  {
   "cell_type": "markdown",
   "metadata": {},
   "source": [
    "The sample of 200 patients is still balanced (the mean is almost the same as for the full dataframe), so this is good for training."
   ]
  },
  {
   "cell_type": "markdown",
   "metadata": {},
   "source": [
    "# Coding PCA  <a name=\"coding\"></a>"
   ]
  },
  {
   "cell_type": "markdown",
   "metadata": {},
   "source": [
    "Now I focus on the classification task, using xboost random forest. There are 22 columns, so the features live in a 22 dimensional space. I will reduce dimensionality by coding the PCA procedure by hand and picking a smaller dimensional subspace. Then I perform classification. Finally, I will perfrom the classification using all 22 features and will compare corectness of the two approaches. \n",
    "\n"
   ]
  },
  {
   "cell_type": "code",
   "execution_count": 8,
   "metadata": {},
   "outputs": [],
   "source": [
    "# Dropping 'diabetes_binary' column:\n",
    "X1=data1.drop(['Diabetes_binary'], axis=1)"
   ]
  },
  {
   "cell_type": "code",
   "execution_count": 9,
   "metadata": {},
   "outputs": [
    {
     "data": {
      "text/plain": [
       "22"
      ]
     },
     "execution_count": 9,
     "metadata": {},
     "output_type": "execute_result"
    }
   ],
   "source": [
    "len(data.columns)"
   ]
  },
  {
   "cell_type": "code",
   "execution_count": 10,
   "metadata": {},
   "outputs": [],
   "source": [
    "# Normalizing the data:\n",
    "\n",
    "# 1. Computing the mean for each column:\n",
    "def mean(x):\n",
    "    return sum(x)/len(x)\n",
    "\n",
    "# 2. Computing standard deviation:\n",
    "\n",
    "def st_dev(x):\n",
    "    vec=((np.array(x)-[mean(x)]*len(x)))**2;\n",
    "    return math.sqrt(sum(vec)/len(x))\n",
    "\n",
    "# 3. Computing the standardized vector:\n",
    "def vec_to_normal(x):\n",
    "    vec1=(x-([mean(x)]*len(x)))/st_dev(x)\n",
    "    #vec=[0]*len(x);\n",
    "   # vectorize\n",
    "   # for i in range(len(x)):\n",
    "   #     vec[i]=(x[i]-mean(x))/st_dev(x)\n",
    "    return vec1\n",
    "        "
   ]
  },
  {
   "cell_type": "code",
   "execution_count": 11,
   "metadata": {},
   "outputs": [],
   "source": [
    "# Normalizing the data 2-dimensional array\n",
    "def standard_data(Y):\n",
    "    StandardY=np.zeros_like(Y);\n",
    "    for i in range(len(Y.columns)):\n",
    "        StandardY[:,i]=vec_to_normal(Y.iloc[:, i])\n",
    "    return pd.DataFrame(StandardY)\n",
    "        "
   ]
  },
  {
   "cell_type": "code",
   "execution_count": 12,
   "metadata": {},
   "outputs": [],
   "source": [
    "# Applying the standardizer to the features:\n",
    "StandardData=pd.DataFrame(standard_data(X1).copy())"
   ]
  },
  {
   "cell_type": "markdown",
   "metadata": {},
   "source": [
    "Now each of the features is normalized. For example, looking at the description below, the mean is zero a d standard deviation is 1:"
   ]
  },
  {
   "cell_type": "code",
   "execution_count": 13,
   "metadata": {},
   "outputs": [
    {
     "data": {
      "text/html": [
       "<div>\n",
       "<style scoped>\n",
       "    .dataframe tbody tr th:only-of-type {\n",
       "        vertical-align: middle;\n",
       "    }\n",
       "\n",
       "    .dataframe tbody tr th {\n",
       "        vertical-align: top;\n",
       "    }\n",
       "\n",
       "    .dataframe thead th {\n",
       "        text-align: right;\n",
       "    }\n",
       "</style>\n",
       "<table border=\"1\" class=\"dataframe\">\n",
       "  <thead>\n",
       "    <tr style=\"text-align: right;\">\n",
       "      <th></th>\n",
       "      <th>0</th>\n",
       "      <th>1</th>\n",
       "      <th>2</th>\n",
       "      <th>3</th>\n",
       "      <th>4</th>\n",
       "      <th>5</th>\n",
       "      <th>6</th>\n",
       "      <th>7</th>\n",
       "      <th>8</th>\n",
       "      <th>9</th>\n",
       "      <th>10</th>\n",
       "      <th>11</th>\n",
       "      <th>12</th>\n",
       "      <th>13</th>\n",
       "      <th>14</th>\n",
       "      <th>15</th>\n",
       "      <th>16</th>\n",
       "      <th>17</th>\n",
       "      <th>18</th>\n",
       "      <th>19</th>\n",
       "      <th>20</th>\n",
       "    </tr>\n",
       "  </thead>\n",
       "  <tbody>\n",
       "    <tr>\n",
       "      <th>count</th>\n",
       "      <td>2.000000e+02</td>\n",
       "      <td>200.000000</td>\n",
       "      <td>2.000000e+02</td>\n",
       "      <td>2.000000e+02</td>\n",
       "      <td>2.000000e+02</td>\n",
       "      <td>2.000000e+02</td>\n",
       "      <td>2.000000e+02</td>\n",
       "      <td>2.000000e+02</td>\n",
       "      <td>2.000000e+02</td>\n",
       "      <td>2.000000e+02</td>\n",
       "      <td>2.000000e+02</td>\n",
       "      <td>2.000000e+02</td>\n",
       "      <td>2.000000e+02</td>\n",
       "      <td>2.000000e+02</td>\n",
       "      <td>2.000000e+02</td>\n",
       "      <td>2.000000e+02</td>\n",
       "      <td>2.000000e+02</td>\n",
       "      <td>2.000000e+02</td>\n",
       "      <td>2.000000e+02</td>\n",
       "      <td>2.000000e+02</td>\n",
       "      <td>2.000000e+02</td>\n",
       "    </tr>\n",
       "    <tr>\n",
       "      <th>mean</th>\n",
       "      <td>4.662937e-17</td>\n",
       "      <td>0.000000</td>\n",
       "      <td>3.733125e-16</td>\n",
       "      <td>6.217249e-17</td>\n",
       "      <td>1.310063e-16</td>\n",
       "      <td>-1.026956e-16</td>\n",
       "      <td>-2.331468e-16</td>\n",
       "      <td>-1.310063e-16</td>\n",
       "      <td>-3.996803e-17</td>\n",
       "      <td>-1.176836e-16</td>\n",
       "      <td>1.265654e-16</td>\n",
       "      <td>2.733924e-16</td>\n",
       "      <td>-2.114975e-16</td>\n",
       "      <td>1.620926e-16</td>\n",
       "      <td>3.996803e-17</td>\n",
       "      <td>-1.584843e-16</td>\n",
       "      <td>6.883383e-17</td>\n",
       "      <td>1.165734e-16</td>\n",
       "      <td>-9.436896e-18</td>\n",
       "      <td>2.287059e-16</td>\n",
       "      <td>-7.049916e-17</td>\n",
       "    </tr>\n",
       "    <tr>\n",
       "      <th>std</th>\n",
       "      <td>1.002509e+00</td>\n",
       "      <td>1.002509</td>\n",
       "      <td>1.002509e+00</td>\n",
       "      <td>1.002509e+00</td>\n",
       "      <td>1.002509e+00</td>\n",
       "      <td>1.002509e+00</td>\n",
       "      <td>1.002509e+00</td>\n",
       "      <td>1.002509e+00</td>\n",
       "      <td>1.002509e+00</td>\n",
       "      <td>1.002509e+00</td>\n",
       "      <td>1.002509e+00</td>\n",
       "      <td>1.002509e+00</td>\n",
       "      <td>1.002509e+00</td>\n",
       "      <td>1.002509e+00</td>\n",
       "      <td>1.002509e+00</td>\n",
       "      <td>1.002509e+00</td>\n",
       "      <td>1.002509e+00</td>\n",
       "      <td>1.002509e+00</td>\n",
       "      <td>1.002509e+00</td>\n",
       "      <td>1.002509e+00</td>\n",
       "      <td>1.002509e+00</td>\n",
       "    </tr>\n",
       "    <tr>\n",
       "      <th>min</th>\n",
       "      <td>-9.801961e-01</td>\n",
       "      <td>-1.000000</td>\n",
       "      <td>-5.250850e+00</td>\n",
       "      <td>-2.298437e+00</td>\n",
       "      <td>-8.509629e-01</td>\n",
       "      <td>-2.526456e-01</td>\n",
       "      <td>-3.865557e-01</td>\n",
       "      <td>-1.709260e+00</td>\n",
       "      <td>-1.290994e+00</td>\n",
       "      <td>-1.969276e+00</td>\n",
       "      <td>-2.041241e-01</td>\n",
       "      <td>-5.250850e+00</td>\n",
       "      <td>-2.743516e-01</td>\n",
       "      <td>-1.794091e+00</td>\n",
       "      <td>-4.708098e-01</td>\n",
       "      <td>-4.478771e-01</td>\n",
       "      <td>-5.155800e-01</td>\n",
       "      <td>-9.607689e-01</td>\n",
       "      <td>-2.438310e+00</td>\n",
       "      <td>-3.222312e+00</td>\n",
       "      <td>-2.283125e+00</td>\n",
       "    </tr>\n",
       "    <tr>\n",
       "      <th>25%</th>\n",
       "      <td>-9.801961e-01</td>\n",
       "      <td>-1.000000</td>\n",
       "      <td>1.904453e-01</td>\n",
       "      <td>-7.773007e-01</td>\n",
       "      <td>-8.509629e-01</td>\n",
       "      <td>-2.526456e-01</td>\n",
       "      <td>-3.865557e-01</td>\n",
       "      <td>-1.709260e+00</td>\n",
       "      <td>-1.290994e+00</td>\n",
       "      <td>5.078008e-01</td>\n",
       "      <td>-2.041241e-01</td>\n",
       "      <td>1.904453e-01</td>\n",
       "      <td>-2.743516e-01</td>\n",
       "      <td>-7.479738e-01</td>\n",
       "      <td>-4.708098e-01</td>\n",
       "      <td>-4.478771e-01</td>\n",
       "      <td>-5.155800e-01</td>\n",
       "      <td>-9.607689e-01</td>\n",
       "      <td>-8.029578e-01</td>\n",
       "      <td>-1.105851e+00</td>\n",
       "      <td>-6.795252e-01</td>\n",
       "    </tr>\n",
       "    <tr>\n",
       "      <th>50%</th>\n",
       "      <td>-9.801961e-01</td>\n",
       "      <td>0.000000</td>\n",
       "      <td>1.904453e-01</td>\n",
       "      <td>-1.688461e-01</td>\n",
       "      <td>-8.509629e-01</td>\n",
       "      <td>-2.526456e-01</td>\n",
       "      <td>-3.865557e-01</td>\n",
       "      <td>5.850486e-01</td>\n",
       "      <td>7.745967e-01</td>\n",
       "      <td>5.078008e-01</td>\n",
       "      <td>-2.041241e-01</td>\n",
       "      <td>1.904453e-01</td>\n",
       "      <td>-2.743516e-01</td>\n",
       "      <td>2.981434e-01</td>\n",
       "      <td>-4.708098e-01</td>\n",
       "      <td>-4.478771e-01</td>\n",
       "      <td>-5.155800e-01</td>\n",
       "      <td>-9.607689e-01</td>\n",
       "      <td>1.782534e-01</td>\n",
       "      <td>-4.762038e-02</td>\n",
       "      <td>1.222744e-01</td>\n",
       "    </tr>\n",
       "    <tr>\n",
       "      <th>75%</th>\n",
       "      <td>1.020204e+00</td>\n",
       "      <td>1.000000</td>\n",
       "      <td>1.904453e-01</td>\n",
       "      <td>4.776368e-01</td>\n",
       "      <td>1.175139e+00</td>\n",
       "      <td>-2.526456e-01</td>\n",
       "      <td>-3.865557e-01</td>\n",
       "      <td>5.850486e-01</td>\n",
       "      <td>7.745967e-01</td>\n",
       "      <td>5.078008e-01</td>\n",
       "      <td>-2.041241e-01</td>\n",
       "      <td>1.904453e-01</td>\n",
       "      <td>-2.743516e-01</td>\n",
       "      <td>2.981434e-01</td>\n",
       "      <td>-9.566254e-02</td>\n",
       "      <td>-1.901061e-01</td>\n",
       "      <td>-5.155800e-01</td>\n",
       "      <td>1.040833e+00</td>\n",
       "      <td>8.323941e-01</td>\n",
       "      <td>1.010610e+00</td>\n",
       "      <td>9.240741e-01</td>\n",
       "    </tr>\n",
       "    <tr>\n",
       "      <th>max</th>\n",
       "      <td>1.020204e+00</td>\n",
       "      <td>1.000000</td>\n",
       "      <td>1.904453e-01</td>\n",
       "      <td>3.177654e+00</td>\n",
       "      <td>1.175139e+00</td>\n",
       "      <td>3.958114e+00</td>\n",
       "      <td>2.586949e+00</td>\n",
       "      <td>5.850486e-01</td>\n",
       "      <td>7.745967e-01</td>\n",
       "      <td>5.078008e-01</td>\n",
       "      <td>4.898979e+00</td>\n",
       "      <td>1.904453e-01</td>\n",
       "      <td>3.644957e+00</td>\n",
       "      <td>2.390378e+00</td>\n",
       "      <td>3.280663e+00</td>\n",
       "      <td>3.418687e+00</td>\n",
       "      <td>1.939563e+00</td>\n",
       "      <td>1.040833e+00</td>\n",
       "      <td>1.486535e+00</td>\n",
       "      <td>1.010610e+00</td>\n",
       "      <td>1.725874e+00</td>\n",
       "    </tr>\n",
       "  </tbody>\n",
       "</table>\n",
       "</div>"
      ],
      "text/plain": [
       "                 0           1             2             3             4   \\\n",
       "count  2.000000e+02  200.000000  2.000000e+02  2.000000e+02  2.000000e+02   \n",
       "mean   4.662937e-17    0.000000  3.733125e-16  6.217249e-17  1.310063e-16   \n",
       "std    1.002509e+00    1.002509  1.002509e+00  1.002509e+00  1.002509e+00   \n",
       "min   -9.801961e-01   -1.000000 -5.250850e+00 -2.298437e+00 -8.509629e-01   \n",
       "25%   -9.801961e-01   -1.000000  1.904453e-01 -7.773007e-01 -8.509629e-01   \n",
       "50%   -9.801961e-01    0.000000  1.904453e-01 -1.688461e-01 -8.509629e-01   \n",
       "75%    1.020204e+00    1.000000  1.904453e-01  4.776368e-01  1.175139e+00   \n",
       "max    1.020204e+00    1.000000  1.904453e-01  3.177654e+00  1.175139e+00   \n",
       "\n",
       "                 5             6             7             8             9   \\\n",
       "count  2.000000e+02  2.000000e+02  2.000000e+02  2.000000e+02  2.000000e+02   \n",
       "mean  -1.026956e-16 -2.331468e-16 -1.310063e-16 -3.996803e-17 -1.176836e-16   \n",
       "std    1.002509e+00  1.002509e+00  1.002509e+00  1.002509e+00  1.002509e+00   \n",
       "min   -2.526456e-01 -3.865557e-01 -1.709260e+00 -1.290994e+00 -1.969276e+00   \n",
       "25%   -2.526456e-01 -3.865557e-01 -1.709260e+00 -1.290994e+00  5.078008e-01   \n",
       "50%   -2.526456e-01 -3.865557e-01  5.850486e-01  7.745967e-01  5.078008e-01   \n",
       "75%   -2.526456e-01 -3.865557e-01  5.850486e-01  7.745967e-01  5.078008e-01   \n",
       "max    3.958114e+00  2.586949e+00  5.850486e-01  7.745967e-01  5.078008e-01   \n",
       "\n",
       "                 10            11            12            13            14  \\\n",
       "count  2.000000e+02  2.000000e+02  2.000000e+02  2.000000e+02  2.000000e+02   \n",
       "mean   1.265654e-16  2.733924e-16 -2.114975e-16  1.620926e-16  3.996803e-17   \n",
       "std    1.002509e+00  1.002509e+00  1.002509e+00  1.002509e+00  1.002509e+00   \n",
       "min   -2.041241e-01 -5.250850e+00 -2.743516e-01 -1.794091e+00 -4.708098e-01   \n",
       "25%   -2.041241e-01  1.904453e-01 -2.743516e-01 -7.479738e-01 -4.708098e-01   \n",
       "50%   -2.041241e-01  1.904453e-01 -2.743516e-01  2.981434e-01 -4.708098e-01   \n",
       "75%   -2.041241e-01  1.904453e-01 -2.743516e-01  2.981434e-01 -9.566254e-02   \n",
       "max    4.898979e+00  1.904453e-01  3.644957e+00  2.390378e+00  3.280663e+00   \n",
       "\n",
       "                 15            16            17            18            19  \\\n",
       "count  2.000000e+02  2.000000e+02  2.000000e+02  2.000000e+02  2.000000e+02   \n",
       "mean  -1.584843e-16  6.883383e-17  1.165734e-16 -9.436896e-18  2.287059e-16   \n",
       "std    1.002509e+00  1.002509e+00  1.002509e+00  1.002509e+00  1.002509e+00   \n",
       "min   -4.478771e-01 -5.155800e-01 -9.607689e-01 -2.438310e+00 -3.222312e+00   \n",
       "25%   -4.478771e-01 -5.155800e-01 -9.607689e-01 -8.029578e-01 -1.105851e+00   \n",
       "50%   -4.478771e-01 -5.155800e-01 -9.607689e-01  1.782534e-01 -4.762038e-02   \n",
       "75%   -1.901061e-01 -5.155800e-01  1.040833e+00  8.323941e-01  1.010610e+00   \n",
       "max    3.418687e+00  1.939563e+00  1.040833e+00  1.486535e+00  1.010610e+00   \n",
       "\n",
       "                 20  \n",
       "count  2.000000e+02  \n",
       "mean  -7.049916e-17  \n",
       "std    1.002509e+00  \n",
       "min   -2.283125e+00  \n",
       "25%   -6.795252e-01  \n",
       "50%    1.222744e-01  \n",
       "75%    9.240741e-01  \n",
       "max    1.725874e+00  "
      ]
     },
     "execution_count": 13,
     "metadata": {},
     "output_type": "execute_result"
    }
   ],
   "source": [
    "StandardData.describe()"
   ]
  },
  {
   "cell_type": "markdown",
   "metadata": {},
   "source": [
    " Now we can define the covariance matrix:"
   ]
  },
  {
   "cell_type": "code",
   "execution_count": 14,
   "metadata": {},
   "outputs": [],
   "source": [
    "def Covariance(Y):\n",
    "    Cov=np.zeros((21, 21))\n",
    "    for i in range(21):\n",
    "        for j in range(21):\n",
    "            Cov[i,j]=np.dot(Y.iloc[:,i],Y.iloc[:,j])\n",
    "    return Cov"
   ]
  },
  {
   "cell_type": "markdown",
   "metadata": {},
   "source": [
    "Obtaining a 21x21 covariance matrix for our case:"
   ]
  },
  {
   "cell_type": "code",
   "execution_count": 15,
   "metadata": {},
   "outputs": [
    {
     "data": {
      "text/plain": [
       "array([[ 2.00000000e+02,  6.00120036e+01,  2.64499872e+01,\n",
       "         4.84487595e+01, -1.28075280e+01,  3.47036006e+01,\n",
       "         3.72357326e+01, -2.29935682e+01, -3.40890719e+01,\n",
       "         4.45963060e-01, -9.39158919e+00,  3.73347556e+01,\n",
       "         1.09762607e+00,  5.84478004e+01, -1.49338468e+00,\n",
       "         1.99683556e+01,  4.13528809e+01, -1.21721744e+01,\n",
       "         4.73758100e+01, -2.41536554e+01, -2.09391772e+01],\n",
       "       [ 6.00120036e+01,  2.00000000e+02,  3.80890693e+01,\n",
       "         1.15606369e+01,  8.88178420e-16,  1.68430384e+01,\n",
       "         2.37880413e+01, -6.88292486e+00, -2.06559112e+00,\n",
       "         1.73395389e+01, -1.02062073e+01,  3.80890693e+01,\n",
       "        -2.35158541e+01,  3.66141038e+01, -1.31301531e+01,\n",
       "         1.97194791e+01,  2.94617170e+01, -1.60128154e+01,\n",
       "         5.98538814e+01, -3.17469205e+00, -2.80629879e+00],\n",
       "       [ 2.64499872e+01,  3.80890693e+01,  2.00000000e+02,\n",
       "         3.04343563e+01, -6.61477276e-01, -1.32889529e+01,\n",
       "        -1.45617486e+00, -9.79994755e+00,  4.21480946e+00,\n",
       "         3.45723735e+01, -1.99925967e+01,  8.15692080e+01,\n",
       "        -7.48546775e+01, -5.66377205e+00, -6.56273764e+00,\n",
       "         9.34487610e+00, -7.08035442e+00,  3.92087080e+00,\n",
       "         3.23636023e+01,  2.48463999e+01,  3.67895551e+01],\n",
       "       [ 4.84487595e+01,  1.15606369e+01,  3.04343563e+01,\n",
       "         2.00000000e+02, -7.47071456e+00, -1.49367862e+01,\n",
       "        -1.35059977e+01, -3.95726103e+01, -1.78311106e+01,\n",
       "        -1.84630631e-01,  3.97440864e+00,  4.77580190e+00,\n",
       "         6.83222709e+00,  5.55788835e+01,  2.34289918e+00,\n",
       "         2.55760168e+01,  2.74045506e+01, -2.69639484e+01,\n",
       "        -1.39310208e+01, -3.97583076e+01, -2.67889293e+01],\n",
       "       [-1.28075280e+01,  8.88178420e-16, -6.61477276e-01,\n",
       "        -7.47071456e+00,  2.00000000e+02,  8.19017231e+00,\n",
       "         1.25312210e+01, -2.59386477e+01,  1.04627470e+01,\n",
       "         1.10413848e+00, -3.72218750e+00, -1.16860986e+01,\n",
       "         9.52910494e-01,  1.47096112e+01,  1.94430164e+01,\n",
       "         2.06557919e+01,  1.67138863e+01,  1.49240566e+01,\n",
       "         1.44331280e+01, -2.74013880e+01, -3.19869579e+01],\n",
       "       [ 3.47036006e+01,  1.68430384e+01, -1.32889529e+01,\n",
       "        -1.49367862e+01,  8.19017231e+00,  2.00000000e+02,\n",
       "         3.05505457e+01,  5.79646839e-01, -4.34885382e+00,\n",
       "        -1.60627786e+01, -1.03142125e+01,  9.62303487e+00,\n",
       "         2.64052289e+00,  2.82797679e+01, -3.78064050e+00,\n",
       "         1.04742218e+01,  4.63143175e+01, -6.40548104e+00,\n",
       "         4.61917839e+01, -3.35979008e+01, -1.07025083e+01],\n",
       "       [ 3.72357326e+01,  2.37880413e+01, -1.45617486e+00,\n",
       "        -1.35059977e+01,  1.25312210e+01,  3.05505457e+01,\n",
       "         2.00000000e+02,  1.79422217e+01,  4.60653440e+00,\n",
       "         9.79624964e+00, -6.06964201e-01, -1.45617486e+00,\n",
       "        -9.55635018e+00,  2.30498057e+01, -1.44606272e+01,\n",
       "         2.40100897e+01,  2.58433475e+01,  2.09502433e+01,\n",
       "         4.49024255e+01, -1.31215489e+01, -2.75012327e+01],\n",
       "       [-2.29935682e+01, -6.88292486e+00, -9.79994755e+00,\n",
       "        -3.95726103e+01, -2.59386477e+01,  5.79646839e-01,\n",
       "         1.79422217e+01,  2.00000000e+02,  1.83640234e+01,\n",
       "         5.99291148e+01,  4.68323718e-01,  2.76520813e+01,\n",
       "        -3.08429137e+01, -4.68862558e+01, -4.30308664e+01,\n",
       "        -4.57674373e+01, -5.79620791e+01,  3.43503432e+01,\n",
       "        -2.01069762e+01,  4.44185663e+01,  4.54789075e+01],\n",
       "       [-3.40890719e+01, -2.06559112e+00,  4.21480946e+00,\n",
       "        -1.78311106e+01,  1.04627470e+01, -4.34885382e+00,\n",
       "         4.60653440e+00,  1.83640234e+01,  2.00000000e+02,\n",
       "         3.38976620e+01, -1.05409255e+01,  4.21480946e+00,\n",
       "        -3.03588370e+01, -2.02579735e+01, -4.55254212e+00,\n",
       "        -1.26123957e+01, -1.14104739e+01,  4.13449115e+00,\n",
       "         1.83254789e+01,  2.26784210e+01,  1.83216046e+01],\n",
       "       [ 4.45963060e-01,  1.73395389e+01,  3.45723735e+01,\n",
       "        -1.84630631e-01,  1.10413848e+00, -1.60627786e+01,\n",
       "         9.79624964e+00,  5.99291148e+01,  3.38976620e+01,\n",
       "         2.00000000e+02,  8.09009957e+00,  3.45723735e+01,\n",
       "        -1.09705261e+01, -1.21403013e+01, -1.07284057e+01,\n",
       "        -1.64498338e+01, -2.06165509e+01, -3.13353315e+01,\n",
       "         4.58155963e+00,  3.62921598e+01,  9.42910221e+00],\n",
       "       [-9.39158919e+00, -1.02062073e+01, -1.99925967e+01,\n",
       "         3.97440864e+00, -3.72218750e+00, -1.03142125e+01,\n",
       "        -6.06964201e-01,  4.68323718e-01, -1.05409255e+01,\n",
       "         8.09009957e+00,  2.00000000e+02,  7.77489872e+00,\n",
       "         8.80028161e+00, -3.84368022e+00,  5.02853057e+00,\n",
       "        -1.17073445e+01, -8.51961771e+00,  2.20630652e+01,\n",
       "        -1.44208002e+01,  3.04574712e+01,  9.08350014e+00],\n",
       "       [ 3.73347556e+01,  3.80890693e+01,  8.15692080e+01,\n",
       "         4.77580190e+00, -1.16860986e+01,  9.62303487e+00,\n",
       "        -1.45617486e+00,  2.76520813e+01,  4.21480946e+00,\n",
       "         3.45723735e+01,  7.77489872e+00,  2.00000000e+02,\n",
       "        -7.48546775e+01, -1.70482385e+01, -6.56273764e+00,\n",
       "         1.07474841e+01,  6.27880486e+00, -6.97043697e+00,\n",
       "         3.41432890e+01,  5.93952758e+01,  5.86036998e+01],\n",
       "       [ 1.09762607e+00, -2.35158541e+01, -7.48546775e+01,\n",
       "         6.83222709e+00,  9.52910494e-01,  2.64052289e+00,\n",
       "        -9.55635018e+00, -3.08429137e+01, -3.03588370e+01,\n",
       "        -1.09705261e+01,  8.80028161e+00, -7.48546775e+01,\n",
       "         2.00000000e+02,  1.63592265e+01,  3.19990190e+01,\n",
       "         2.89698960e+01,  1.01998123e+01, -2.91830148e+01,\n",
       "        -4.66223366e+01, -2.74981441e+01, -3.72857697e+01],\n",
       "       [ 5.84478004e+01,  3.66141038e+01, -5.66377205e+00,\n",
       "         5.55788835e+01,  1.47096112e+01,  2.82797679e+01,\n",
       "         2.30498057e+01, -4.68862558e+01, -2.02579735e+01,\n",
       "        -1.21403013e+01, -3.84368022e+00, -1.70482385e+01,\n",
       "         1.63592265e+01,  2.00000000e+02,  2.61115270e+01,\n",
       "         8.18515148e+01,  6.92688723e+01, -2.01852953e+01,\n",
       "         2.05069986e+01, -7.35457622e+01, -8.11033920e+01],\n",
       "       [-1.49338468e+00, -1.31301531e+01, -6.56273764e+00,\n",
       "         2.34289918e+00,  1.94430164e+01, -3.78064050e+00,\n",
       "        -1.44606272e+01, -4.30308664e+01, -4.55254212e+00,\n",
       "        -1.07284057e+01,  5.02853057e+00, -6.56273764e+00,\n",
       "         3.19990190e+01,  2.61115270e+01,  2.00000000e+02,\n",
       "         6.96468419e+01,  2.51351851e+01, -5.01698258e+01,\n",
       "        -4.32971950e+01, -1.58644744e+01, -2.14232237e+01],\n",
       "       [ 1.99683556e+01,  1.97194791e+01,  9.34487610e+00,\n",
       "         2.55760168e+01,  2.06557919e+01,  1.04742218e+01,\n",
       "         2.40100897e+01, -4.57674373e+01, -1.26123957e+01,\n",
       "        -1.64498338e+01, -1.17073445e+01,  1.07474841e+01,\n",
       "         2.89698960e+01,  8.18515148e+01,  6.96468419e+01,\n",
       "         2.00000000e+02,  5.69736366e+01, -2.72424170e+01,\n",
       "         3.27752215e-01, -4.46372253e+01, -3.57570484e+01],\n",
       "       [ 4.13528809e+01,  2.94617170e+01, -7.08035442e+00,\n",
       "         2.74045506e+01,  1.67138863e+01,  4.63143175e+01,\n",
       "         2.58433475e+01, -5.79620791e+01, -1.14104739e+01,\n",
       "        -2.06165509e+01, -8.51961771e+00,  6.27880486e+00,\n",
       "         1.01998123e+01,  6.92688723e+01,  2.51351851e+01,\n",
       "         5.69736366e+01,  2.00000000e+02, -2.04431515e+01,\n",
       "         6.01370149e+01, -4.38820397e+01, -6.41643290e+01],\n",
       "       [-1.21721744e+01, -1.60128154e+01,  3.92087080e+00,\n",
       "        -2.69639484e+01,  1.49240566e+01, -6.40548104e+00,\n",
       "         2.09502433e+01,  3.43503432e+01,  4.13449115e+00,\n",
       "        -3.13353315e+01,  2.20630652e+01, -6.97043697e+00,\n",
       "        -2.91830148e+01, -2.01852953e+01, -5.01698258e+01,\n",
       "        -2.72424170e+01, -2.04431515e+01,  2.00000000e+02,\n",
       "        -1.75450145e+00,  9.91297275e+00,  4.67663119e+01],\n",
       "       [ 4.73758100e+01,  5.98538814e+01,  3.23636023e+01,\n",
       "        -1.39310208e+01,  1.44331280e+01,  4.61917839e+01,\n",
       "         4.49024255e+01, -2.01069762e+01,  1.83254789e+01,\n",
       "         4.58155963e+00, -1.44208002e+01,  3.41432890e+01,\n",
       "        -4.66223366e+01,  2.05069986e+01, -4.32971950e+01,\n",
       "         3.27752215e-01,  6.01370149e+01, -1.75450145e+00,\n",
       "         2.00000000e+02, -1.21469383e+01, -2.69122299e+01],\n",
       "       [-2.41536554e+01, -3.17469205e+00,  2.48463999e+01,\n",
       "        -3.97583076e+01, -2.74013880e+01, -3.35979008e+01,\n",
       "        -1.31215489e+01,  4.44185663e+01,  2.26784210e+01,\n",
       "         3.62921598e+01,  3.04574712e+01,  5.93952758e+01,\n",
       "        -2.74981441e+01, -7.35457622e+01, -1.58644744e+01,\n",
       "        -4.46372253e+01, -4.38820397e+01,  9.91297275e+00,\n",
       "        -1.21469383e+01,  2.00000000e+02,  8.81346733e+01],\n",
       "       [-2.09391772e+01, -2.80629879e+00,  3.67895551e+01,\n",
       "        -2.67889293e+01, -3.19869579e+01, -1.07025083e+01,\n",
       "        -2.75012327e+01,  4.54789075e+01,  1.83216046e+01,\n",
       "         9.42910221e+00,  9.08350014e+00,  5.86036998e+01,\n",
       "        -3.72857697e+01, -8.11033920e+01, -2.14232237e+01,\n",
       "        -3.57570484e+01, -6.41643290e+01,  4.67663119e+01,\n",
       "        -2.69122299e+01,  8.81346733e+01,  2.00000000e+02]])"
      ]
     },
     "execution_count": 15,
     "metadata": {},
     "output_type": "execute_result"
    }
   ],
   "source": [
    "Covariance(StandardData)"
   ]
  },
  {
   "cell_type": "code",
   "execution_count": 16,
   "metadata": {},
   "outputs": [
    {
     "data": {
      "text/plain": [
       "(21, 21)"
      ]
     },
     "execution_count": 16,
     "metadata": {},
     "output_type": "execute_result"
    }
   ],
   "source": [
    "Covariance(StandardData).shape"
   ]
  },
  {
   "cell_type": "code",
   "execution_count": 17,
   "metadata": {},
   "outputs": [],
   "source": [
    "# Finding eigenvalues of the Covariance matrix:\n",
    "eigenvalues, eigenvectors=LA.eig(Covariance(X1))"
   ]
  },
  {
   "cell_type": "markdown",
   "metadata": {},
   "source": [
    "Usually one can see when the magnitude of eigenvalues drops dramatically. For example, here we have first 5 eignevalues:"
   ]
  },
  {
   "cell_type": "code",
   "execution_count": 18,
   "metadata": {},
   "outputs": [
    {
     "data": {
      "text/plain": [
       "array([-0.01510438,  0.00068707,  0.00663934, -0.01264726, -0.03438372,\n",
       "        0.04136068, -0.15028232,  0.49093324,  0.12211904,  0.37899596,\n",
       "        0.14709396,  0.08535123, -0.68317735,  0.03739872,  0.03384476,\n",
       "       -0.02799754,  0.06893149,  0.01863077,  0.18631774, -0.18837369,\n",
       "        0.01564729])"
      ]
     },
     "execution_count": 18,
     "metadata": {},
     "output_type": "execute_result"
    }
   ],
   "source": [
    "eigenvectors[0]"
   ]
  },
  {
   "cell_type": "code",
   "execution_count": 19,
   "metadata": {},
   "outputs": [
    {
     "data": {
      "text/plain": [
       "array([224984.77852491,  16434.15040836,   8157.10690679,   2685.39147498,\n",
       "         1653.40382164])"
      ]
     },
     "execution_count": 19,
     "metadata": {},
     "output_type": "execute_result"
    }
   ],
   "source": [
    "eigenvalues[:5]"
   ]
  },
  {
   "cell_type": "markdown",
   "metadata": {},
   "source": [
    "need this thing about most viarianve in the first eigenvalue or something. The difference in magnitude between the top eigenvalues ans the 20th one:"
   ]
  },
  {
   "cell_type": "code",
   "execution_count": 20,
   "metadata": {},
   "outputs": [
    {
     "data": {
      "text/plain": [
       "12473.606596678628"
      ]
     },
     "execution_count": 20,
     "metadata": {},
     "output_type": "execute_result"
    }
   ],
   "source": [
    "eigenvalues[0]/eigenvalues[19] "
   ]
  },
  {
   "cell_type": "markdown",
   "metadata": {},
   "source": [
    "Plotting the histogram of eigenvalues:\n"
   ]
  },
  {
   "cell_type": "code",
   "execution_count": 21,
   "metadata": {},
   "outputs": [
    {
     "data": {
      "image/png": "[encoded data removed]",
      "text/plain": [
       "<Figure size 432x288 with 1 Axes>"
      ]
     },
     "metadata": {
      "needs_background": "light"
     },
     "output_type": "display_data"
    }
   ],
   "source": [
    "xpoints = np.array([i for i in range(len(eigenvalues))])\n",
    "plt.plot(xpoints, eigenvalues)\n",
    "plt.show()"
   ]
  },
  {
   "cell_type": "markdown",
   "metadata": {},
   "source": [
    "Plotting the histogram of three first eigenvalues:\n"
   ]
  },
  {
   "cell_type": "code",
   "execution_count": 22,
   "metadata": {},
   "outputs": [
    {
     "data": {
      "image/png": "[encoded data removed]",
      "text/plain": [
       "<Figure size 432x288 with 1 Axes>"
      ]
     },
     "metadata": {
      "needs_background": "light"
     },
     "output_type": "display_data"
    }
   ],
   "source": [
    "xpoints = np.array([1,2,3,4])\n",
    "plt.plot(xpoints, eigenvalues[:4])\n",
    "plt.plot(xpoints[2], eigenvalues[2], 'o')\n",
    "plt.show()"
   ]
  },
  {
   "cell_type": "markdown",
   "metadata": {},
   "source": [
    "We see, we really just need three principal vectors, with the frist one completely dominating. "
   ]
  },
  {
   "cell_type": "markdown",
   "metadata": {},
   "source": [
    "# Obtaining principal components <a name=\"components\"></a>"
   ]
  },
  {
   "cell_type": "markdown",
   "metadata": {},
   "source": [
    "The last step is to project our standardized data set onto the subspace spanned by the three eigenvectors we chose!"
   ]
  },
  {
   "cell_type": "code",
   "execution_count": 23,
   "metadata": {},
   "outputs": [],
   "source": [
    "PCAdata=pd.DataFrame(np.dot(StandardData,eigenvectors[:,:3]))"
   ]
  },
  {
   "cell_type": "code",
   "execution_count": 24,
   "metadata": {},
   "outputs": [
    {
     "data": {
      "text/html": [
       "<div>\n",
       "<style scoped>\n",
       "    .dataframe tbody tr th:only-of-type {\n",
       "        vertical-align: middle;\n",
       "    }\n",
       "\n",
       "    .dataframe tbody tr th {\n",
       "        vertical-align: top;\n",
       "    }\n",
       "\n",
       "    .dataframe thead th {\n",
       "        text-align: right;\n",
       "    }\n",
       "</style>\n",
       "<table border=\"1\" class=\"dataframe\">\n",
       "  <thead>\n",
       "    <tr style=\"text-align: right;\">\n",
       "      <th></th>\n",
       "      <th>0</th>\n",
       "      <th>1</th>\n",
       "      <th>2</th>\n",
       "    </tr>\n",
       "  </thead>\n",
       "  <tbody>\n",
       "    <tr>\n",
       "      <th>0</th>\n",
       "      <td>1.182421</td>\n",
       "      <td>0.562326</td>\n",
       "      <td>-0.174723</td>\n",
       "    </tr>\n",
       "    <tr>\n",
       "      <th>1</th>\n",
       "      <td>-0.072040</td>\n",
       "      <td>0.575026</td>\n",
       "      <td>0.183837</td>\n",
       "    </tr>\n",
       "    <tr>\n",
       "      <th>2</th>\n",
       "      <td>0.387350</td>\n",
       "      <td>0.682951</td>\n",
       "      <td>0.041210</td>\n",
       "    </tr>\n",
       "    <tr>\n",
       "      <th>3</th>\n",
       "      <td>-0.062420</td>\n",
       "      <td>0.738623</td>\n",
       "      <td>0.047304</td>\n",
       "    </tr>\n",
       "    <tr>\n",
       "      <th>4</th>\n",
       "      <td>-1.791896</td>\n",
       "      <td>-1.986760</td>\n",
       "      <td>-2.449509</td>\n",
       "    </tr>\n",
       "    <tr>\n",
       "      <th>...</th>\n",
       "      <td>...</td>\n",
       "      <td>...</td>\n",
       "      <td>...</td>\n",
       "    </tr>\n",
       "    <tr>\n",
       "      <th>195</th>\n",
       "      <td>0.113962</td>\n",
       "      <td>0.612797</td>\n",
       "      <td>-0.256987</td>\n",
       "    </tr>\n",
       "    <tr>\n",
       "      <th>196</th>\n",
       "      <td>-0.399551</td>\n",
       "      <td>0.338838</td>\n",
       "      <td>0.090858</td>\n",
       "    </tr>\n",
       "    <tr>\n",
       "      <th>197</th>\n",
       "      <td>-0.171515</td>\n",
       "      <td>0.363024</td>\n",
       "      <td>-0.273039</td>\n",
       "    </tr>\n",
       "    <tr>\n",
       "      <th>198</th>\n",
       "      <td>-1.193963</td>\n",
       "      <td>0.810282</td>\n",
       "      <td>0.048792</td>\n",
       "    </tr>\n",
       "    <tr>\n",
       "      <th>199</th>\n",
       "      <td>-1.439216</td>\n",
       "      <td>0.808432</td>\n",
       "      <td>0.090862</td>\n",
       "    </tr>\n",
       "  </tbody>\n",
       "</table>\n",
       "<p>200 rows × 3 columns</p>\n",
       "</div>"
      ],
      "text/plain": [
       "            0         1         2\n",
       "0    1.182421  0.562326 -0.174723\n",
       "1   -0.072040  0.575026  0.183837\n",
       "2    0.387350  0.682951  0.041210\n",
       "3   -0.062420  0.738623  0.047304\n",
       "4   -1.791896 -1.986760 -2.449509\n",
       "..        ...       ...       ...\n",
       "195  0.113962  0.612797 -0.256987\n",
       "196 -0.399551  0.338838  0.090858\n",
       "197 -0.171515  0.363024 -0.273039\n",
       "198 -1.193963  0.810282  0.048792\n",
       "199 -1.439216  0.808432  0.090862\n",
       "\n",
       "[200 rows x 3 columns]"
      ]
     },
     "execution_count": 24,
     "metadata": {},
     "output_type": "execute_result"
    }
   ],
   "source": [
    "PCAdata"
   ]
  },
  {
   "cell_type": "markdown",
   "metadata": {},
   "source": [
    "# Performing Gradient Boosting Classification with principal components <a name=\"classification1\"></a>"
   ]
  },
  {
   "cell_type": "markdown",
   "metadata": {},
   "source": [
    "Using just three principal components in the binary classification task:"
   ]
  },
  {
   "cell_type": "code",
   "execution_count": 25,
   "metadata": {},
   "outputs": [],
   "source": [
    "# Creating a new data frame with three features:\n",
    "XPCA=pd.DataFrame(PCAdata)\n",
    "y=data1['Diabetes_binary'].values"
   ]
  },
  {
   "cell_type": "code",
   "execution_count": 26,
   "metadata": {},
   "outputs": [
    {
     "data": {
      "text/html": [
       "<div>\n",
       "<style scoped>\n",
       "    .dataframe tbody tr th:only-of-type {\n",
       "        vertical-align: middle;\n",
       "    }\n",
       "\n",
       "    .dataframe tbody tr th {\n",
       "        vertical-align: top;\n",
       "    }\n",
       "\n",
       "    .dataframe thead th {\n",
       "        text-align: right;\n",
       "    }\n",
       "</style>\n",
       "<table border=\"1\" class=\"dataframe\">\n",
       "  <thead>\n",
       "    <tr style=\"text-align: right;\">\n",
       "      <th></th>\n",
       "      <th>0</th>\n",
       "      <th>1</th>\n",
       "      <th>2</th>\n",
       "    </tr>\n",
       "  </thead>\n",
       "  <tbody>\n",
       "    <tr>\n",
       "      <th>0</th>\n",
       "      <td>1.182421</td>\n",
       "      <td>0.562326</td>\n",
       "      <td>-0.174723</td>\n",
       "    </tr>\n",
       "    <tr>\n",
       "      <th>1</th>\n",
       "      <td>-0.072040</td>\n",
       "      <td>0.575026</td>\n",
       "      <td>0.183837</td>\n",
       "    </tr>\n",
       "    <tr>\n",
       "      <th>2</th>\n",
       "      <td>0.387350</td>\n",
       "      <td>0.682951</td>\n",
       "      <td>0.041210</td>\n",
       "    </tr>\n",
       "    <tr>\n",
       "      <th>3</th>\n",
       "      <td>-0.062420</td>\n",
       "      <td>0.738623</td>\n",
       "      <td>0.047304</td>\n",
       "    </tr>\n",
       "    <tr>\n",
       "      <th>4</th>\n",
       "      <td>-1.791896</td>\n",
       "      <td>-1.986760</td>\n",
       "      <td>-2.449509</td>\n",
       "    </tr>\n",
       "    <tr>\n",
       "      <th>...</th>\n",
       "      <td>...</td>\n",
       "      <td>...</td>\n",
       "      <td>...</td>\n",
       "    </tr>\n",
       "    <tr>\n",
       "      <th>195</th>\n",
       "      <td>0.113962</td>\n",
       "      <td>0.612797</td>\n",
       "      <td>-0.256987</td>\n",
       "    </tr>\n",
       "    <tr>\n",
       "      <th>196</th>\n",
       "      <td>-0.399551</td>\n",
       "      <td>0.338838</td>\n",
       "      <td>0.090858</td>\n",
       "    </tr>\n",
       "    <tr>\n",
       "      <th>197</th>\n",
       "      <td>-0.171515</td>\n",
       "      <td>0.363024</td>\n",
       "      <td>-0.273039</td>\n",
       "    </tr>\n",
       "    <tr>\n",
       "      <th>198</th>\n",
       "      <td>-1.193963</td>\n",
       "      <td>0.810282</td>\n",
       "      <td>0.048792</td>\n",
       "    </tr>\n",
       "    <tr>\n",
       "      <th>199</th>\n",
       "      <td>-1.439216</td>\n",
       "      <td>0.808432</td>\n",
       "      <td>0.090862</td>\n",
       "    </tr>\n",
       "  </tbody>\n",
       "</table>\n",
       "<p>200 rows × 3 columns</p>\n",
       "</div>"
      ],
      "text/plain": [
       "            0         1         2\n",
       "0    1.182421  0.562326 -0.174723\n",
       "1   -0.072040  0.575026  0.183837\n",
       "2    0.387350  0.682951  0.041210\n",
       "3   -0.062420  0.738623  0.047304\n",
       "4   -1.791896 -1.986760 -2.449509\n",
       "..        ...       ...       ...\n",
       "195  0.113962  0.612797 -0.256987\n",
       "196 -0.399551  0.338838  0.090858\n",
       "197 -0.171515  0.363024 -0.273039\n",
       "198 -1.193963  0.810282  0.048792\n",
       "199 -1.439216  0.808432  0.090862\n",
       "\n",
       "[200 rows x 3 columns]"
      ]
     },
     "execution_count": 26,
     "metadata": {},
     "output_type": "execute_result"
    }
   ],
   "source": [
    "XPCA"
   ]
  },
  {
   "cell_type": "code",
   "execution_count": 27,
   "metadata": {},
   "outputs": [],
   "source": [
    "feature_list=['0','1','2']"
   ]
  },
  {
   "cell_type": "code",
   "execution_count": 28,
   "metadata": {},
   "outputs": [],
   "source": [
    "RANDOM_STATE=1"
   ]
  },
  {
   "cell_type": "code",
   "execution_count": 29,
   "metadata": {},
   "outputs": [],
   "source": [
    "X_train, X_test, y_train, y_test = train_test_split(XPCA, y, test_size=0.33, random_state=RANDOM_STATE)"
   ]
  },
  {
   "cell_type": "code",
   "execution_count": 30,
   "metadata": {},
   "outputs": [
    {
     "name": "stdout",
     "output_type": "stream",
     "text": [
      "(134, 3)\n",
      "(66, 3)\n",
      "(134,)\n",
      "(66,)\n"
     ]
    }
   ],
   "source": [
    "# check size of data splits\n",
    "print(X_train.shape)\n",
    "print(X_test.shape)\n",
    "print(y_train.shape)\n",
    "print(y_test.shape)"
   ]
  },
  {
   "cell_type": "markdown",
   "metadata": {},
   "source": [
    "# Defining and running the pipleline for the Gradient Boosting Classifier\n",
    "# with three principal components (extreme dimensionality reduction):"
   ]
  },
  {
   "cell_type": "code",
   "execution_count": 31,
   "metadata": {},
   "outputs": [],
   "source": [
    "np.object=object\n",
    "clf = GradientBoostingClassifier(n_estimators=50, learning_rate=1.0,max_depth=1, random_state=0)\n",
    "clf1=clf.fit(X_train, y_train)"
   ]
  },
  {
   "cell_type": "code",
   "execution_count": 32,
   "metadata": {},
   "outputs": [],
   "source": [
    "# Defining metrics of the model: the score and confusion matrix:\n",
    "\n",
    "def Metrics(predictions):\n",
    "    print(f'the score on the training set set is ' +str(clf.score(X_train,y_train)) )\n",
    "    print(f'the score on the test set set is ' +str(clf.score(X_test,y_test)) )\n",
    "    print(classification_report(y_test,predictions, digits=5))\n",
    "    conf=confusion_matrix(y_test,predictions,normalize='all')\n",
    "    displayCM=ConfusionMatrixDisplay(confusion_matrix=conf,display_labels=clf.classes_)\n",
    "    displayCM.plot()"
   ]
  },
  {
   "cell_type": "code",
   "execution_count": 33,
   "metadata": {},
   "outputs": [],
   "source": [
    "predictions=clf.predict(X_test)"
   ]
  },
  {
   "cell_type": "code",
   "execution_count": 34,
   "metadata": {},
   "outputs": [
    {
     "name": "stdout",
     "output_type": "stream",
     "text": [
      "the score on the training set set is 0.917910447761194\n",
      "the score on the test set set is 0.6515151515151515\n",
      "              precision    recall  f1-score   support\n",
      "\n",
      "         0.0    0.64516   0.62500   0.63492        32\n",
      "         1.0    0.65714   0.67647   0.66667        34\n",
      "\n",
      "    accuracy                        0.65152        66\n",
      "   macro avg    0.65115   0.65074   0.65079        66\n",
      "weighted avg    0.65133   0.65152   0.65127        66\n",
      "\n"
     ]
    },
    {
     "data": {
      "image/png": "[encoded data removed]",
      "text/plain": [
       "<Figure size 432x288 with 2 Axes>"
      ]
     },
     "metadata": {
      "needs_background": "light"
     },
     "output_type": "display_data"
    }
   ],
   "source": [
    "Metrics(predictions)"
   ]
  },
  {
   "cell_type": "markdown",
   "metadata": {},
   "source": [
    "# The score for three principal components is not so great, let's use first 10 principal components!"
   ]
  },
  {
   "cell_type": "code",
   "execution_count": 35,
   "metadata": {},
   "outputs": [],
   "source": [
    "# Creating a new data frame with ten features:\n",
    "PCAdata10 =pd.DataFrame(np.dot(StandardData,eigenvectors[:,:10]))\n",
    "XPCA10=pd.DataFrame(PCAdata10)\n",
    "y=data1['Diabetes_binary'].values"
   ]
  },
  {
   "cell_type": "code",
   "execution_count": 36,
   "metadata": {},
   "outputs": [],
   "source": [
    "X10_train, X10_test, y10_train, y10_test = train_test_split(XPCA10, y, test_size=0.33, random_state=RANDOM_STATE)"
   ]
  },
  {
   "cell_type": "code",
   "execution_count": 37,
   "metadata": {},
   "outputs": [],
   "source": [
    "clf10 = GradientBoostingClassifier(n_estimators=50, learning_rate=1.0,max_depth=1, random_state=0).fit(X10_train, y10_train)"
   ]
  },
  {
   "cell_type": "code",
   "execution_count": 38,
   "metadata": {},
   "outputs": [],
   "source": [
    "predictions10=clf10.predict(X10_test)"
   ]
  },
  {
   "cell_type": "code",
   "execution_count": 39,
   "metadata": {},
   "outputs": [],
   "source": [
    "def Metrics10(predictions):\n",
    "    print(f'the score on the training set is ' +str(clf10.score(X10_train,y10_train)) )\n",
    "    print(f'the score on the test set set is ' +str(clf10.score(X10_test,y10_test)) )\n",
    "    print(classification_report(y10_test,predictions10, digits=5))\n",
    "    conf10=confusion_matrix(y10_test,predictions10,normalize='all')\n",
    "    displayCM=ConfusionMatrixDisplay(confusion_matrix=conf10,display_labels=clf.classes_)\n",
    "    displayCM.plot()"
   ]
  },
  {
   "cell_type": "code",
   "execution_count": 40,
   "metadata": {},
   "outputs": [
    {
     "name": "stdout",
     "output_type": "stream",
     "text": [
      "the score on the training set is 0.9850746268656716\n",
      "the score on the test set set is 0.7121212121212122\n",
      "              precision    recall  f1-score   support\n",
      "\n",
      "         0.0    0.72414   0.65625   0.68852        32\n",
      "         1.0    0.70270   0.76471   0.73239        34\n",
      "\n",
      "    accuracy                        0.71212        66\n",
      "   macro avg    0.71342   0.71048   0.71046        66\n",
      "weighted avg    0.71310   0.71212   0.71112        66\n",
      "\n"
     ]
    },
    {
     "data": {
      "image/png": "[encoded data removed]",
      "text/plain": [
       "<Figure size 432x288 with 2 Axes>"
      ]
     },
     "metadata": {
      "needs_background": "light"
     },
     "output_type": "display_data"
    }
   ],
   "source": [
    "Metrics10(predictions10)"
   ]
  },
  {
   "cell_type": "markdown",
   "metadata": {},
   "source": [
    "# By using 10 vectors we improved accuracy from 65% to 71%. We only used   \n",
    "# about a half of the original number of features."
   ]
  },
  {
   "cell_type": "markdown",
   "metadata": {},
   "source": [
    "# Performing Gradient Boosting Classification with all features <a name=\"classification2\"></a>"
   ]
  },
  {
   "cell_type": "code",
   "execution_count": 41,
   "metadata": {},
   "outputs": [],
   "source": [
    "Xall_train, Xall_test, y_train, y_test = train_test_split(StandardData, y, test_size=0.33, random_state=RANDOM_STATE)"
   ]
  },
  {
   "cell_type": "code",
   "execution_count": 42,
   "metadata": {},
   "outputs": [],
   "source": [
    "clfall = GradientBoostingClassifier(n_estimators=50, learning_rate=1.0,max_depth=1, random_state=0).fit(Xall_train, y_train)"
   ]
  },
  {
   "cell_type": "code",
   "execution_count": 43,
   "metadata": {},
   "outputs": [],
   "source": [
    "predictionsAll=clfall.predict(Xall_test)"
   ]
  },
  {
   "cell_type": "code",
   "execution_count": 44,
   "metadata": {},
   "outputs": [],
   "source": [
    "def MetricsAll(predictions):\n",
    "    print(f'the score on the training set is ' +str(clfall.score(Xall_train,y_train)) )\n",
    "    print(f'the score on the test set set is ' +str(clfall.score(Xall_test,y_test)) )\n",
    "    print(classification_report(y_test,predictionsAll, digits=5))\n",
    "    confAll=confusion_matrix(y_test,predictionsAll,normalize='all')\n",
    "    displayCM=ConfusionMatrixDisplay(confusion_matrix=confAll,display_labels=clfall.classes_)\n",
    "    displayCM.plot()"
   ]
  },
  {
   "cell_type": "code",
   "execution_count": 45,
   "metadata": {},
   "outputs": [
    {
     "name": "stdout",
     "output_type": "stream",
     "text": [
      "the score on the training set is 0.8582089552238806\n",
      "the score on the test set set is 0.7272727272727273\n",
      "              precision    recall  f1-score   support\n",
      "\n",
      "         0.0    0.71875   0.71875   0.71875        32\n",
      "         1.0    0.73529   0.73529   0.73529        34\n",
      "\n",
      "    accuracy                        0.72727        66\n",
      "   macro avg    0.72702   0.72702   0.72702        66\n",
      "weighted avg    0.72727   0.72727   0.72727        66\n",
      "\n"
     ]
    },
    {
     "data": {
      "image/png": "[encoded data removed]",
      "text/plain": [
       "<Figure size 432x288 with 2 Axes>"
      ]
     },
     "metadata": {
      "needs_background": "light"
     },
     "output_type": "display_data"
    }
   ],
   "source": [
    "MetricsAll(predictions)"
   ]
  },
  {
   "cell_type": "markdown",
   "metadata": {},
   "source": [
    "# Using all features improved the score on the test set by only 1%."
   ]
  }
 ],
 "metadata": {
  "kernelspec": {
   "display_name": "Python 3",
   "language": "python",
   "name": "python3"
  },
  "language_info": {
   "codemirror_mode": {
    "name": "ipython",
    "version": 3
   },
   "file_extension": ".py",
   "mimetype": "text/x-python",
   "name": "python",
   "nbconvert_exporter": "python",
   "pygments_lexer": "ipython3",
   "version": "3.7.6"
  }
 },
 "nbformat": 4,
 "nbformat_minor": 4
}
