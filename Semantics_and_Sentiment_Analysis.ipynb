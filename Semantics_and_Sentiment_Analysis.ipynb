{
  "nbformat": 4,
  "nbformat_minor": 0,
  "metadata": {
    "colab": {
      "provenance": []
    },
    "kernelspec": {
      "name": "python3",
      "display_name": "Python 3"
    },
    "language_info": {
      "name": "python"
    }
  },
  "cells": [
    {
      "cell_type": "markdown",
      "source": [
        "I will use spacy to transform words to vectors, and subsequently experiment with word arithmetic.  "
      ],
      "metadata": {
        "id": "zYDwj6hCQDvU"
      }
    },
    {
      "cell_type": "code",
      "source": [
        "# !python -m spacy download en_core_web_lg;"
      ],
      "metadata": {
        "id": "ST5zamL5Szln"
      },
      "execution_count": 25,
      "outputs": []
    },
    {
      "cell_type": "code",
      "source": [
        "import spacy\n",
        "nlp = spacy.load('en_core_web_lg')"
      ],
      "metadata": {
        "id": "0fhY26FETDnY"
      },
      "execution_count": 2,
      "outputs": []
    },
    {
      "cell_type": "markdown",
      "source": [
        "We will quantify the distance between two vectorized words using the cosine similarity:"
      ],
      "metadata": {
        "id": "4Xf9DFxBh5AN"
      }
    },
    {
      "cell_type": "code",
      "source": [
        "from scipy import spatial\n",
        "cos_sim = lambda v1,v2: 1 - spatial.distance.cosine(v1,v2)"
      ],
      "metadata": {
        "id": "IS132LujTsJX"
      },
      "execution_count": 3,
      "outputs": []
    },
    {
      "cell_type": "markdown",
      "source": [
        "Trying the word arithmetics for \"actress\", \"male\" and \"female\". The idea is, hopefully \"actrees\" - \"female\" + \"male\" results in \"actor\" among the top results."
      ],
      "metadata": {
        "id": "ZnIYtHcsiFvL"
      }
    },
    {
      "cell_type": "code",
      "source": [
        "# Vectorizing the words:\n",
        "\n",
        "actress = nlp.vocab['actress'].vector\n",
        "male = nlp.vocab['male'].vector\n",
        "female = nlp.vocab['female'].vector"
      ],
      "metadata": {
        "id": "WMFWzZ4fU5KU"
      },
      "execution_count": 4,
      "outputs": []
    },
    {
      "cell_type": "code",
      "source": [
        "resultant = actress - female + male"
      ],
      "metadata": {
        "id": "2GdT98V-VP7f"
      },
      "execution_count": 5,
      "outputs": []
    },
    {
      "cell_type": "markdown",
      "source": [
        "We will now find top 10 most similar words to the above word vector:"
      ],
      "metadata": {
        "id": "uBAQ8IbXiiQr"
      }
    },
    {
      "cell_type": "code",
      "source": [
        "similarities =[]\n",
        "\n",
        "for word in nlp.vocab.vectors:\n",
        "  word = nlp.vocab[word]\n",
        "  if word.has_vector:\n",
        "    if word.is_lower:\n",
        "      if word.is_alpha:\n",
        "        similarity = cos_sim(resultant, word.vector)\n",
        "        similarities.append((word, similarity))"
      ],
      "metadata": {
        "id": "5h64NYM4VWqh"
      },
      "execution_count": 6,
      "outputs": []
    },
    {
      "cell_type": "markdown",
      "source": [
        "Sorting them to get the closest words according to this metric first:"
      ],
      "metadata": {
        "id": "TyQCt_aTivak"
      }
    },
    {
      "cell_type": "code",
      "source": [
        "similarities = sorted(similarities, key = lambda item: -item[1])"
      ],
      "metadata": {
        "id": "7wmdHtx_WZRP"
      },
      "execution_count": 7,
      "outputs": []
    },
    {
      "cell_type": "markdown",
      "source": [
        "The following 10 words are the closest to \"actress\":"
      ],
      "metadata": {
        "id": "jefkSASwi397"
      }
    },
    {
      "cell_type": "code",
      "source": [
        "print([x[0].text for x in similarities[:10]])"
      ],
      "metadata": {
        "colab": {
          "base_uri": "https://localhost:8080/"
        },
        "id": "0WCsBlaDW6DO",
        "outputId": "71bebe9b-9b0b-4532-f12f-c33af0c35336"
      },
      "execution_count": 8,
      "outputs": [
        {
          "output_type": "stream",
          "name": "stdout",
          "text": [
            "['actress', 'actresses', 'actor', 'seductress', 'singer', 'male', 'benefactress', 'actos', 'directress', 'actonel']\n"
          ]
        }
      ]
    },
    {
      "cell_type": "markdown",
      "source": [
        "Defining a function that takes in 3 word vectors a, b, and c and outputs a top-ten reseult of a-b+c arithmetic:"
      ],
      "metadata": {
        "id": "JXlXZXnpQCc9"
      }
    },
    {
      "cell_type": "code",
      "source": [
        "def resultant(a,b,c):\n",
        "  cos_sim = lambda v_1,v_2: 1 - spatial.distance.cosine(v_1,v_2)\n",
        "  v1 = nlp.vocab[a].vector\n",
        "  v2 = nlp.vocab[b].vector\n",
        "  v3 = nlp.vocab[c].vector\n",
        "  resultant = v1-v2+v3\n",
        "  similarities =[]\n",
        "  for word in nlp.vocab.vectors:\n",
        "    word = nlp.vocab[word]\n",
        "    if word.has_vector:\n",
        "      if word.is_lower:\n",
        "       if word.is_alpha:\n",
        "          similarity = cos_sim(resultant, word.vector)\n",
        "          similarities.append((word, similarity))\n",
        "  similarities = sorted(similarities, key = lambda item: -item[1])\n",
        "  print([x[0].text for x in similarities[:10]])"
      ],
      "metadata": {
        "id": "87joWv0xdCLC"
      },
      "execution_count": 9,
      "outputs": []
    },
    {
      "cell_type": "code",
      "source": [
        "resultant('actress','female','male')"
      ],
      "metadata": {
        "colab": {
          "base_uri": "https://localhost:8080/"
        },
        "id": "S7tJ9A40dCYJ",
        "outputId": "4abd8d7b-140d-48c1-cc80-216d80553198"
      },
      "execution_count": 10,
      "outputs": [
        {
          "output_type": "stream",
          "name": "stdout",
          "text": [
            "['actress', 'actresses', 'actor', 'seductress', 'singer', 'male', 'benefactress', 'actos', 'directress', 'actonel']\n"
          ]
        }
      ]
    },
    {
      "cell_type": "code",
      "source": [
        "resultant('king','man','woman')"
      ],
      "metadata": {
        "colab": {
          "base_uri": "https://localhost:8080/"
        },
        "id": "NqXsuJEaflzV",
        "outputId": "db50863a-70d4-48dd-82e5-f98854b79c9f"
      },
      "execution_count": 11,
      "outputs": [
        {
          "output_type": "stream",
          "name": "stdout",
          "text": [
            "['king', 'kings', 'princes', 'consort', 'princeling', 'monarch', 'princelings', 'princesses', 'prince', 'kingship']\n"
          ]
        }
      ]
    },
    {
      "cell_type": "markdown",
      "source": [
        "# VADER sentiment analysis"
      ],
      "metadata": {
        "id": "bDPZp3-wfzLi"
      }
    },
    {
      "cell_type": "code",
      "source": [
        "import nltk"
      ],
      "metadata": {
        "id": "seel7EB9f3-I"
      },
      "execution_count": 12,
      "outputs": []
    },
    {
      "cell_type": "code",
      "source": [
        "nltk.download('vader_lexicon')"
      ],
      "metadata": {
        "colab": {
          "base_uri": "https://localhost:8080/"
        },
        "id": "gxvk-NeVf4Li",
        "outputId": "9512cdbc-464f-4471-ea08-9dd02204278f"
      },
      "execution_count": 13,
      "outputs": [
        {
          "output_type": "stream",
          "name": "stderr",
          "text": [
            "[nltk_data] Downloading package vader_lexicon to /root/nltk_data...\n",
            "[nltk_data]   Package vader_lexicon is already up-to-date!\n"
          ]
        },
        {
          "output_type": "execute_result",
          "data": {
            "text/plain": [
              "True"
            ]
          },
          "metadata": {},
          "execution_count": 13
        }
      ]
    },
    {
      "cell_type": "code",
      "source": [
        "from nltk.sentiment.vader import SentimentIntensityAnalyzer"
      ],
      "metadata": {
        "id": "htvs2SLQf4YO"
      },
      "execution_count": 14,
      "outputs": []
    },
    {
      "cell_type": "markdown",
      "source": [
        "Initializing sentiment analyzer object:"
      ],
      "metadata": {
        "id": "hFwZPjCnjHoE"
      }
    },
    {
      "cell_type": "code",
      "source": [
        "sid = SentimentIntensityAnalyzer()"
      ],
      "metadata": {
        "id": "7g3zwdikgVJy"
      },
      "execution_count": 15,
      "outputs": []
    },
    {
      "cell_type": "code",
      "source": [
        "review = 'the restaurant is very clean and our waiter was pleasant. The food was a little cold but overall, I enjoyed it.'"
      ],
      "metadata": {
        "id": "7vEjprS_gfSZ"
      },
      "execution_count": 16,
      "outputs": []
    },
    {
      "cell_type": "code",
      "source": [
        "score = sid.polarity_scores(review)"
      ],
      "metadata": {
        "id": "sj2T6HWihCRs"
      },
      "execution_count": 17,
      "outputs": []
    },
    {
      "cell_type": "code",
      "source": [
        "score"
      ],
      "metadata": {
        "colab": {
          "base_uri": "https://localhost:8080/"
        },
        "id": "TCs81TlEhaRH",
        "outputId": "404a824a-426a-488c-9622-19ea62d9e249"
      },
      "execution_count": 18,
      "outputs": [
        {
          "output_type": "execute_result",
          "data": {
            "text/plain": [
              "{'neg': 0.0, 'neu': 0.65, 'pos': 0.35, 'compound': 0.8223}"
            ]
          },
          "metadata": {},
          "execution_count": 18
        }
      ]
    },
    {
      "cell_type": "markdown",
      "source": [
        "Defining a function that takes in a review and returns a score of \"Positive\",\n",
        "\"Negative\" or \"Neutral\":"
      ],
      "metadata": {
        "id": "ss5Wt9XdhoIy"
      }
    },
    {
      "cell_type": "code",
      "source": [
        "def review_rating(string):\n",
        "  score = sid.polarity_scores(string)\n",
        "  if score['compound']<0:\n",
        "    print('Negative')\n",
        "  elif score['compound']>0:\n",
        "    print(\"Positive\")\n",
        "  else:\n",
        "    print(\"Neutral\")"
      ],
      "metadata": {
        "id": "5IU5Xs3Qhyvl"
      },
      "execution_count": 19,
      "outputs": []
    },
    {
      "cell_type": "code",
      "source": [
        "review_rating(review)"
      ],
      "metadata": {
        "colab": {
          "base_uri": "https://localhost:8080/"
        },
        "id": "buwD4-0qihjx",
        "outputId": "bb3f4c9c-f3b7-4f30-dd95-5dee671e755a"
      },
      "execution_count": 20,
      "outputs": [
        {
          "output_type": "stream",
          "name": "stdout",
          "text": [
            "Positive\n"
          ]
        }
      ]
    },
    {
      "cell_type": "markdown",
      "source": [
        "A couple of literary descriptions and their sentiment rating:"
      ],
      "metadata": {
        "id": "Qu4c5z0jjzIw"
      }
    },
    {
      "cell_type": "markdown",
      "source": [
        "\"The Brothers Karamazov\": The mountains rose up sharply on all sides, their jagged peaks capped with pristine white snow that gleamed in the crisp alpine air. Down in the valley, a crystalline lake lay still and serene, reflecting the majesty of the towering peaks above."
      ],
      "metadata": {
        "id": "fYJmlTejkG2l"
      }
    },
    {
      "cell_type": "code",
      "source": [
        "Brothers_Karamazov = \"The mountains rose up sharply on all sides, their jagged peaks capped with pristine white snow that gleamed in the crisp alpine air. Down in the valley, a crystalline lake lay still and serene, reflecting the majesty of the towering peaks above.\""
      ],
      "metadata": {
        "id": "d4k-yay0i-0H"
      },
      "execution_count": 21,
      "outputs": []
    },
    {
      "cell_type": "code",
      "source": [
        "review_rating(Brothers_Karamazov)"
      ],
      "metadata": {
        "colab": {
          "base_uri": "https://localhost:8080/"
        },
        "id": "iunfCg0WjCpt",
        "outputId": "8d643483-9658-4ac2-8725-023e13bd45ef"
      },
      "execution_count": 22,
      "outputs": [
        {
          "output_type": "stream",
          "name": "stdout",
          "text": [
            "Positive\n"
          ]
        }
      ]
    },
    {
      "cell_type": "markdown",
      "source": [
        "\"The Lord of the Rings\": Upon its outward marges under the westward mountains Mordor was a dying land, but it was not yet dead. And here things still grew, harsh, twisted, bitter, struggling for life. In the glens of the Morgai on the other side of the valley low scrubby trees lurked and clung, coarse grey grass-tussocks fought with the stones, and withered mosses crawled on them; and everywhere great writhing, tangled brambles spawned. Some had long stabbing thorns, some hooked barbs that rent like knives. The sullen shrivelled leaves of a past year hung on them, grating and rattling in the sad airs, but their maggot-ridden buds were only just opening. Flies, dun or grey, or black, marked like orcs with a red eye-shaped blotch, buzzed and stung; and above the briar-thickets clouds of hungry midges danced and reeled."
      ],
      "metadata": {
        "id": "w6h0PJlOkC64"
      }
    },
    {
      "cell_type": "code",
      "source": [
        "Description_of_Mordor =\"Upon its outward marges under the westward mountains Mordor was a dying land, but it was not yet dead. And here things still grew, harsh, twisted, bitter, struggling for life. In the glens of the Morgai on the other side of the valley low scrubby trees lurked and clung, coarse grey grass-tussocks fought with the stones, and withered mosses crawled on them; and everywhere great writhing, tangled brambles spawned. Some had long stabbing thorns, some hooked barbs that rent like knives. The sullen shrivelled leaves of a past year hung on them, grating and rattling in the sad airs, but their maggot-ridden buds were only just opening. Flies, dun or grey, or black, marked like orcs with a red eye-shaped blotch, buzzed and stung; and above the briar-thickets clouds of hungry midges danced and reeled.\""
      ],
      "metadata": {
        "id": "zK6y-VZNjwyJ"
      },
      "execution_count": 23,
      "outputs": []
    },
    {
      "cell_type": "code",
      "source": [
        "review_rating(Description_of_Mordor)"
      ],
      "metadata": {
        "colab": {
          "base_uri": "https://localhost:8080/"
        },
        "id": "lQe88x8FkNlx",
        "outputId": "08b552d3-02f1-4762-b5ac-3905f4e7dc81"
      },
      "execution_count": 24,
      "outputs": [
        {
          "output_type": "stream",
          "name": "stdout",
          "text": [
            "Negative\n"
          ]
        }
      ]
    }
  ]
}